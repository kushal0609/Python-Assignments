{
 "cells": [
  {
   "cell_type": "code",
   "execution_count": 2,
   "id": "d48fc539",
   "metadata": {},
   "outputs": [
    {
     "name": "stdout",
     "output_type": "stream",
     "text": [
      "Enter Ramesh's basic salary: 10000\n",
      "Ramesh's gross salary is:  16000.0\n"
     ]
    }
   ],
   "source": [
    "#1. Ramesh's basic salary is input through the keyboard. His dearness allowance is 40% of basic salary, \n",
    "#and house rent allowance is 20% of basic salary. Write a program to calculate his gross salary\n",
    "\n",
    "\n",
    "basic_salary = float(input(\"Enter Ramesh's basic salary: \"))\n",
    "\n",
    "DA = 0.4 * basic_salary\n",
    "\n",
    "HRA = 0.2 * basic_salary\n",
    "\n",
    "gross_salary = basic_salary + DA + HRA\n",
    "\n",
    "print(\"Ramesh's gross salary is: \", gross_salary)"
   ]
  },
  {
   "cell_type": "code",
   "execution_count": 7,
   "id": "fa19200d",
   "metadata": {},
   "outputs": [
    {
     "name": "stdout",
     "output_type": "stream",
     "text": [
      "Enter The Kilometer : 30\n",
      "Kilometers :  30.0\n",
      "Meters  :  30000.0\n",
      "Centimeters :  3000000.0\n",
      "Inches :  1181102.3622047245\n",
      "Feet :  98425.19685039371\n"
     ]
    }
   ],
   "source": [
    "#2. The distance between two cities (in km.) is input through the keyboard. Write a program to convert and \n",
    "#print this distance in meters, feet, inches and centimeters.\n",
    "\n",
    "km=float(input(\"Enter The Kilometer : \"));\n",
    "meters=km*1000;\n",
    "centimeters=meters*100;\n",
    "inches=centimeters/2.54;\n",
    "feet=inches/12;\n",
    "print(\"Kilometers : \",km);\n",
    "print(\"Meters  : \",meters);\n",
    "print(\"Centimeters : \",centimeters);\n",
    "print(\"Inches : \",inches);\n",
    "print(\"Feet : \",feet);"
   ]
  },
  {
   "cell_type": "code",
   "execution_count": 9,
   "id": "278f4b8e",
   "metadata": {},
   "outputs": [
    {
     "name": "stdout",
     "output_type": "stream",
     "text": [
      "Enter the marks 1:60\n",
      "Enter the mark 2:70\n",
      "Enter the mark 3:75\n",
      "Enter the mark 4:80\n",
      "Enter the mark 5:85\n",
      "Total Marks: 370\n",
      "Percentage Marks: 74.0\n"
     ]
    }
   ],
   "source": [
    "#3. If the marks obtained by a student in five different subjects are input through the keyboard, \n",
    "#find out the aggregate marks and percentage marks obtained by the student. \n",
    "#Assume that the maximum marks that can be obtained by a student in each subject is 100.\n",
    "\n",
    "\n",
    "m1=int(input(\"Enter the marks 1:\"))\n",
    "m2=int(input(\"Enter the mark 2:\"))\n",
    "m3=int(input(\"Enter the mark 3:\"))\n",
    "m4=int(input(\"Enter the mark 4:\"))\n",
    "m5=int(input(\"Enter the mark 5:\"))\n",
    "total=m1+m2+m3+m4+m5\n",
    "per=total/5\n",
    "print(\"Total Marks:\",total)\n",
    "print(\"Percentage Marks:\",per)"
   ]
  },
  {
   "cell_type": "code",
   "execution_count": 10,
   "id": "ecee5422",
   "metadata": {},
   "outputs": [
    {
     "name": "stdout",
     "output_type": "stream",
     "text": [
      "Enter the Temperature:30\n",
      "Temparture in Centigrade= -1.1111111111111112\n"
     ]
    }
   ],
   "source": [
    "#4. Temperature of a city in Fahrenheit degrees is input through the keyboard. \n",
    "#Write a program to convert this temperature into Centigrade degrees.\n",
    "\n",
    "##centigrade = 5/9 * (F-32)\n",
    "\n",
    "fr=float(input(\"Enter the Temperature:\"))\n",
    "cent=5.0/9.0*(fr-32)\n",
    "print(\"Temparture in Centigrade=\",cent)"
   ]
  },
  {
   "cell_type": "code",
   "execution_count": 11,
   "id": "2c85c1a6",
   "metadata": {},
   "outputs": [
    {
     "name": "stdout",
     "output_type": "stream",
     "text": [
      "Enter the Lenth of rectangle:4\n",
      "Enter the Breadth of rectangle:6\n",
      "Enter the Redius of Circle:3\n",
      "Area of Rectangle = 24\n",
      "Perimeter of Rectangle = 20\n",
      "Area of Circle = 28.259999999999998\n",
      "Circum of Circle = 18.84\n"
     ]
    }
   ],
   "source": [
    "#5. The length & breadth of a rectangle and radius of a circle are input through the keyboard. \n",
    "#Write a program to calculate the area & perimeter of the rectangle, and the area & circumference of the circle.\n",
    "\n",
    "\n",
    "#Area of Rectangle=l*b\n",
    "#Perimeter of Rectangle=2*(l+b)\n",
    "#Area of Circule=PI*r*r(PI=3.14)\n",
    "#Circum of a Circule=2*PI*r\n",
    "\n",
    "len=int(input(\"Enter the Lenth of rectangle:\"))\n",
    "bre=int(input(\"Enter the Breadth of rectangle:\"))\n",
    "r=int(input(\"Enter the Redius of Circle:\"))\n",
    "area1=len*bre\n",
    "perimeter=2*(len+bre)\n",
    "area2=3.14*r*r\n",
    "circum=2*3.14*r\n",
    "print(\"Area of Rectangle =\",area1)\n",
    "print(\"Perimeter of Rectangle =\",perimeter)\n",
    "print(\"Area of Circle =\",area2)\n",
    "print(\"Circum of Circle =\",circum)"
   ]
  },
  {
   "cell_type": "code",
   "execution_count": 12,
   "id": "0d57845c",
   "metadata": {},
   "outputs": [
    {
     "name": "stdout",
     "output_type": "stream",
     "text": [
      "Enter the C Values:5\n",
      "Enter the D Values:8\n",
      "Before C Values :  5\n",
      "Before D Values :  8\n",
      "After C Values: 8\n",
      "After D Values: 5\n"
     ]
    }
   ],
   "source": [
    "#6. Two numbers are input through the keyboard into two locations C and D. \n",
    "#Write a program to interchange the contents of C and D\n",
    "\n",
    "c=int(input(\"Enter the C Values:\"))\n",
    "d=int(input(\"Enter the D Values:\"))\n",
    "print(\"Before C Values : \",c)\n",
    "print(\"Before D Values : \",d)\n",
    "a=c\n",
    "c=d\n",
    "d=a\n",
    "print(\"After C Values:\",c)\n",
    "print(\"After D Values:\",d)"
   ]
  },
  {
   "cell_type": "code",
   "execution_count": 13,
   "id": "14532ade",
   "metadata": {},
   "outputs": [
    {
     "name": "stdout",
     "output_type": "stream",
     "text": [
      "Enter the five digits Number :51234\n",
      "sum of the Digits =  15\n"
     ]
    }
   ],
   "source": [
    "#7. If a five-digit number is input through the keyboard,\n",
    "#write a program to calculate the sum of its digits. ( Hint: Use the modulus operator '%')\n",
    "\n",
    "num=int(input(\"Enter the five digits Number :\"))\n",
    "sum=0\n",
    "a=num%10\n",
    "n=num//10\n",
    "sum=sum+a\n",
    " \n",
    "a=n%10\n",
    "n=n//10\n",
    "sum=sum+a\n",
    " \n",
    "a=n%10\n",
    "n=n//10\n",
    "sum=sum+a\n",
    " \n",
    "a=n%10\n",
    "n=n//10\n",
    "sum=sum+a\n",
    " \n",
    "a=n%10\n",
    "sum=sum+a;\n",
    "print(\"sum of the Digits = \",sum)"
   ]
  },
  {
   "cell_type": "code",
   "execution_count": 14,
   "id": "e19fb417",
   "metadata": {},
   "outputs": [
    {
     "name": "stdout",
     "output_type": "stream",
     "text": [
      "Enter the five digits Number:12345\n",
      "Reverse Five digits = 54321\n"
     ]
    }
   ],
   "source": [
    "#8. If a five-digit number is input through the keyboard, write a program to reverse the number\n",
    "\n",
    "n=int(input(\"Enter the five digits Number:\"))\n",
    "revnum=0\n",
    "a=n%10\n",
    "n=n//10\n",
    "revnum=revnum+a*10000\n",
    " \n",
    "a=n%10\n",
    "n=n//10\n",
    "revnum=revnum+a*1000\n",
    " \n",
    "a=n%10\n",
    "n=n//10\n",
    "revnum=revnum+a*100\n",
    " \n",
    "a=n%10\n",
    "n=n//10\n",
    "revnum=revnum+a*10\n",
    " \n",
    "a=n%10\n",
    "revnum=revnum+a\n",
    " \n",
    "print(\"Reverse Five digits =\",revnum)"
   ]
  },
  {
   "cell_type": "code",
   "execution_count": 15,
   "id": "4ae95b38",
   "metadata": {},
   "outputs": [
    {
     "name": "stdout",
     "output_type": "stream",
     "text": [
      "Enter the four Digits Number :1234\n",
      "Sum of First and Last digits = 5\n"
     ]
    }
   ],
   "source": [
    "#9. If a four-digit number is input through the keyboard, write a program to obtain the sum of the first \n",
    "# and last digit of this number.\n",
    "\n",
    "n=int(input(\"Enter the four Digits Number :\"))\n",
    "sum=0\n",
    "a=n//1000\n",
    "sum=sum+a\n",
    "a=n%10\n",
    "sum=sum+a\n",
    "print(\"Sum of First and Last digits =\",sum)"
   ]
  },
  {
   "cell_type": "code",
   "execution_count": 16,
   "id": "183f6662",
   "metadata": {},
   "outputs": [
    {
     "name": "stdout",
     "output_type": "stream",
     "text": [
      "Total Population          :  80000\n",
      "Total Mens                :  41600.0\n",
      "Total Womens              :  38400.0\n",
      "Total Literacy            :  38400.0\n",
      "Total Literacy Mens       :  14560.0\n",
      "Total Literacy Womens     :  23840.0\n",
      "Total Not Literacy Mens   :  27040.0\n",
      "Total Not Literacy Womens :  14560.0\n"
     ]
    }
   ],
   "source": [
    "# 10. In a town, the percentage of men is 52. The percentage of total literacy is 48. \n",
    "#If total percentage of literate men is 35 of the total population, \n",
    "#write a program to find the total number of illiterate men and women if the population of the town is 80,000\n",
    "\n",
    "pop=80000\n",
    "popmen=(52*pop)/100\n",
    "popwomen=pop-popmen\n",
    "poplit=(48*pop)/100\n",
    "litmen=(35*popmen)/100\n",
    "litwomen= poplit-litmen\n",
    "unlitmen=popmen-litmen\n",
    "unlitwomen=popwomen-litwomen\n",
    "print(\"Total Population          : \",pop)\n",
    "print(\"Total Mens                : \",popmen)\n",
    "print(\"Total Womens              : \",popwomen)\n",
    "print(\"Total Literacy            : \",poplit)\n",
    "print(\"Total Literacy Mens       : \",litmen)\n",
    "print(\"Total Literacy Womens     : \",litwomen)\n",
    "print(\"Total Not Literacy Mens   : \",unlitmen)\n",
    "print(\"Total Not Literacy Womens : \",unlitwomen)"
   ]
  },
  {
   "cell_type": "code",
   "execution_count": 21,
   "id": "5f580e5c",
   "metadata": {},
   "outputs": [
    {
     "name": "stdout",
     "output_type": "stream",
     "text": [
      "Enter the Amount to be Withdrawn :570\n",
      "No of Hundred Notes : 5\n",
      "No of Fifty Notes : 1\n",
      "No of Ten Notes : 2\n"
     ]
    }
   ],
   "source": [
    "#11. A cashier has currency notes of denominations 10, 50 and 100. \n",
    "#If the amount to be withdrawn is input through the keyboard in hundreds,\n",
    "#find the total number of currency notes of each denomination the cashier will have to give to the withdrawer\n",
    "\n",
    "amt = int(input(\"Enter the Amount to be Withdrawn :\"))\n",
    "hundred = amt//100\n",
    "amt = amt%100\n",
    "fifty = amt//50\n",
    "amt = amt%50\n",
    "ten = amt//10\n",
    "print(\"No of Hundred Notes :\",hundred)\n",
    "print(\"No of Fifty Notes :\",fifty)\n",
    "print(\"No of Ten Notes :\",ten)"
   ]
  },
  {
   "cell_type": "code",
   "execution_count": 22,
   "id": "9bd748a2",
   "metadata": {},
   "outputs": [
    {
     "name": "stdout",
     "output_type": "stream",
     "text": [
      "Enter the Selling Price :750\n",
      "Enter the Profit :100\n",
      "Cost Price of Per Item : 43.0\n"
     ]
    }
   ],
   "source": [
    "#12. If the total selling price of 15 items and the total profit earned on them is input through the keyboard, \n",
    "# write a program to find the cost price of one item.\n",
    "\n",
    "sp = float(input(\"Enter the Selling Price :\"))\n",
    "profit = float(input(\"Enter the Profit :\"))\n",
    "cp = sp - profit\n",
    "cp = cp // 15\n",
    "print(\"Cost Price of Per Item :\",cp)"
   ]
  },
  {
   "cell_type": "code",
   "execution_count": 23,
   "id": "e66b578c",
   "metadata": {},
   "outputs": [
    {
     "name": "stdout",
     "output_type": "stream",
     "text": [
      "Enter the Five Digits :54321\n",
      "Old Number : 54321\n",
      "New Number : 65432\n"
     ]
    },
    {
     "data": {
      "text/plain": [
       "'\\nnum = int(input(\"Enter the Five Digits :\"))\\nsum = 0\\na = (num // 10000)+1\\nnum = num % 10000\\nsum=sum+a;\\n \\na = (num // 1000)+1\\nnum = num % 1000\\nsum = (sum*10)+a\\n \\na = (num // 100)+1\\nnum = num % 100\\nsum = (sum*10)+a\\n \\n \\na = (num // 10)+1\\nnum = num % 10\\nsum = (sum*10)+a\\n \\n \\na = num+1\\nsum = (sum*10)+a\\nprint(sum)\\n'"
      ]
     },
     "execution_count": 23,
     "metadata": {},
     "output_type": "execute_result"
    }
   ],
   "source": [
    "#13. If a five-digit number is input through the keyboard,\n",
    "#write a program to print a new number by adding one to each of its digits.\n",
    "#For example, if the number that is input is 12391 then the output should be displayed as 23402\n",
    "\n",
    "num = int(input(\"Enter the Five Digits :\"))\n",
    "onum=num\n",
    "sum = 0\n",
    "a = (num // 10000)+1\n",
    "num = num % 10000\n",
    "sum=sum+(a*10000);\n",
    " \n",
    "a = (num // 1000)+1\n",
    "num = num % 1000\n",
    "sum = sum+(a*1000)\n",
    " \n",
    "a = (num // 100)+1\n",
    "num = num % 100\n",
    "sum = sum+(a*100)\n",
    " \n",
    " \n",
    "a = (num // 10)+1\n",
    "num = num % 10\n",
    "sum = sum+(a*10)\n",
    " \n",
    " \n",
    "a = num+1\n",
    "sum = sum+a\n",
    "print(\"Old Number :\",onum)\n",
    "print(\"New Number :\",sum)\n",
    " \n",
    "\"\"\"\n",
    "num = int(input(\"Enter the Five Digits :\"))\n",
    "sum = 0\n",
    "a = (num // 10000)+1\n",
    "num = num % 10000\n",
    "sum=sum+a;\n",
    " \n",
    "a = (num // 1000)+1\n",
    "num = num % 1000\n",
    "sum = (sum*10)+a\n",
    " \n",
    "a = (num // 100)+1\n",
    "num = num % 100\n",
    "sum = (sum*10)+a\n",
    " \n",
    " \n",
    "a = (num // 10)+1\n",
    "num = num % 10\n",
    "sum = (sum*10)+a\n",
    " \n",
    " \n",
    "a = num+1\n",
    "sum = (sum*10)+a\n",
    "print(sum)\n",
    "\"\"\"\n"
   ]
  },
  {
   "cell_type": "code",
   "execution_count": null,
   "id": "b48f05b2",
   "metadata": {},
   "outputs": [],
   "source": []
  }
 ],
 "metadata": {
  "kernelspec": {
   "display_name": "Python 3 (ipykernel)",
   "language": "python",
   "name": "python3"
  },
  "language_info": {
   "codemirror_mode": {
    "name": "ipython",
    "version": 3
   },
   "file_extension": ".py",
   "mimetype": "text/x-python",
   "name": "python",
   "nbconvert_exporter": "python",
   "pygments_lexer": "ipython3",
   "version": "3.11.4"
  }
 },
 "nbformat": 4,
 "nbformat_minor": 5
}

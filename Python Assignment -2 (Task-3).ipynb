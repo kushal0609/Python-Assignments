{
 "cells": [
  {
   "cell_type": "code",
   "execution_count": 1,
   "id": "d209a0db",
   "metadata": {},
   "outputs": [
    {
     "name": "stdout",
     "output_type": "stream",
     "text": [
      "Enter the Number :10\n",
      "1\n",
      "2\n",
      "5\n",
      "10\n"
     ]
    }
   ],
   "source": [
    "#1. Write a program to find the factor of the given number\n",
    "\n",
    "x = int(input(\"Enter the Number :\"))\n",
    "for i in range(1, x + 1):\n",
    "       if x % i == 0:\n",
    "           print(i)"
   ]
  },
  {
   "cell_type": "code",
   "execution_count": 13,
   "id": "82779bcb",
   "metadata": {},
   "outputs": [
    {
     "name": "stdout",
     "output_type": "stream",
     "text": [
      "Enter a number: 23\n",
      "This is a Prime Number\n"
     ]
    }
   ],
   "source": [
    "#2. Write a program to find whether the given number is prime or not.\n",
    "\n",
    "x = int(input(\"Enter a number: \"))\n",
    "sum=0\n",
    "for i in range(1, x + 1):\n",
    "       if x % i == 0:\n",
    "           sum=sum+1\n",
    "if(sum==2):\n",
    "    print(\"This is a Prime Number\")\n",
    "else:\n",
    "    print(\"This is a Not Prime Number\")\n"
   ]
  },
  {
   "cell_type": "code",
   "execution_count": 14,
   "id": "f1d20a76",
   "metadata": {},
   "outputs": [
    {
     "name": "stdout",
     "output_type": "stream",
     "text": [
      "Enter the Number :153\n",
      "153 is a Armstrong Number\n"
     ]
    }
   ],
   "source": [
    "#3. Write a program to find the given number is Armstrong number or not.\n",
    "\n",
    "num = int(input(\"Enter the Number :\"))\n",
    "a=num\n",
    "sum=0\n",
    "while(num>0):\n",
    "    rem=num%10\n",
    "    sum=sum+(rem*rem*rem)\n",
    "    num=num//10\n",
    "if(sum==a):\n",
    "    print(a, \"is a Armstrong Number\")\n",
    "else:\n",
    "    print(a, \"is a Not Armstrong Number\")"
   ]
  },
  {
   "cell_type": "code",
   "execution_count": 15,
   "id": "87b3aeaf",
   "metadata": {},
   "outputs": [
    {
     "name": "stdout",
     "output_type": "stream",
     "text": [
      "153 is a Armstrong Number\n",
      "370 is a Armstrong Number\n",
      "371 is a Armstrong Number\n",
      "407 is a Armstrong Number\n"
     ]
    }
   ],
   "source": [
    "#4. Write a program to print the Armstrong numbers between 100 to 999\n",
    "\n",
    "for i in range(100,999):\n",
    "    a=i\n",
    "    sum=0\n",
    "    while(i>0):\n",
    "        rem=i%10\n",
    "        sum=sum+(rem*rem*rem)\n",
    "        i=i//10\n",
    "    if(sum==a):\n",
    "        print(a, \"is a Armstrong Number\")"
   ]
  },
  {
   "cell_type": "code",
   "execution_count": 18,
   "id": "ebbc3a50",
   "metadata": {},
   "outputs": [
    {
     "name": "stdout",
     "output_type": "stream",
     "text": [
      "Enter the Limit :4\n",
      "Enter the Values :5\n",
      "Enter the Values :6\n",
      "Enter the Values :8\n",
      "Enter the Values :2\n",
      "Number of Even : 3\n",
      "Number of Odd : 1\n"
     ]
    }
   ],
   "source": [
    "#5. Write a program to count and print the number of odd and even numbers.\n",
    "l = int(input(\"Enter the Limit :\"))\n",
    "even=[]\n",
    "odd=[]\n",
    "for i in range(l):\n",
    "    n = int(input(\"Enter the Values :\"))\n",
    "    if(n%2==0):\n",
    "        even.append(n)\n",
    "    else:\n",
    "        odd.append(n)\n",
    "print(\"Number of Even :\",len(even))\n",
    "print(\"Number of Odd :\",len(odd))"
   ]
  },
  {
   "cell_type": "code",
   "execution_count": 20,
   "id": "31683dfa",
   "metadata": {},
   "outputs": [
    {
     "name": "stdout",
     "output_type": "stream",
     "text": [
      "Enter the Number :1234\n",
      "Before Number : 1234\n",
      "Reverse Number : 4321\n"
     ]
    }
   ],
   "source": [
    "#6. Write a program to find the reverse of n digit number using While loop\n",
    "num = int(input(\"Enter the Number :\"))\n",
    "a=num\n",
    "sum=0\n",
    "while(num>0):\n",
    "    rem=num%10\n",
    "    sum=(sum*10)+rem\n",
    "    num=num//10\n",
    "print(\"Before Number :\",a)\n",
    "print(\"Reverse Number :\",sum)"
   ]
  },
  {
   "cell_type": "code",
   "execution_count": 23,
   "id": "13359f92",
   "metadata": {},
   "outputs": [
    {
     "name": "stdout",
     "output_type": "stream",
     "text": [
      "Enter the Binary Number :1010\n",
      "The binary Number : 1010\n",
      "The decimal Number : 10\n"
     ]
    }
   ],
   "source": [
    "#7. Write a program to find the binary number from given decimal number.\n",
    "binary = input(\"Enter the Binary Number :\")\n",
    "decimal = 0\n",
    "for digit in binary:\n",
    "    decimal = decimal*2 + int(digit)\n",
    "print('The binary Number :', binary)\n",
    "print('The decimal Number :', decimal)"
   ]
  },
  {
   "cell_type": "code",
   "execution_count": 25,
   "id": "c94407ea",
   "metadata": {},
   "outputs": [
    {
     "name": "stdout",
     "output_type": "stream",
     "text": [
      "Enter the Decimal Number :25\n",
      "Decimal Number : 25\n",
      "Binary Number : 11001\n"
     ]
    }
   ],
   "source": [
    "#8. Write a program to find the decimal number from given Binary number\n",
    "\n",
    "decimal = int(input(\"Enter the Decimal Number :\"))\n",
    "binary = 0\n",
    "ctr = 0\n",
    "temp = decimal\n",
    "while(temp > 0):\n",
    "    binary = ((temp%2)*(10**ctr)) + binary\n",
    "    temp = int(temp/2)\n",
    "    ctr += 1\n",
    "print(\"Decimal Number :\",decimal)\n",
    "print(\"Binary Number :\",binary)"
   ]
  },
  {
   "cell_type": "code",
   "execution_count": 26,
   "id": "247d63f3",
   "metadata": {},
   "outputs": [
    {
     "name": "stdout",
     "output_type": "stream",
     "text": [
      "Enter the Number :5\n",
      "The Factorial 5 is : 120\n"
     ]
    }
   ],
   "source": [
    "#9. Write a program to find the factorial of the given number\n",
    "\n",
    "f = int(input(\"Enter the Number :\"))\n",
    "fact = 1    \n",
    "if(f< 0):    \n",
    "   print(\"Factorial does not exist Negative Values\")    \n",
    "elif(f== 0):    \n",
    "   print(\"The Factorial of 0 is 1\")    \n",
    "else:    \n",
    "   for i in range(1,f + 1):    \n",
    "       fact = fact*i    \n",
    "   print(\"The Factorial\",f,\"is :\",fact)  "
   ]
  },
  {
   "cell_type": "code",
   "execution_count": 27,
   "id": "f0ced3ac",
   "metadata": {},
   "outputs": [
    {
     "name": "stdout",
     "output_type": "stream",
     "text": [
      "Enter the Number :10\n",
      "Fibonacci sequence:\n",
      "0\n",
      "1\n",
      "1\n",
      "2\n",
      "3\n",
      "5\n",
      "8\n",
      "13\n",
      "21\n",
      "34\n"
     ]
    }
   ],
   "source": [
    "#10. Write a program to find the Fibonacci Series of the given number10\n",
    "n = int(input(\"Enter the Number :\"))\n",
    "n1, n2 = 0, 1\n",
    "sum = 0\n",
    "if n <= 0:\n",
    "   print(\"Please enter a positive integer\")\n",
    "elif n == 1:\n",
    "   print(\"Fibonacci sequence upto\",n,\":\",n1)\n",
    "else:\n",
    "   print(\"Fibonacci sequence:\")\n",
    "   while sum < n:\n",
    "       print(n1)\n",
    "       nth = n1 + n2\n",
    "       n1 = n2\n",
    "       n2 = nth\n",
    "       sum += 1"
   ]
  },
  {
   "cell_type": "code",
   "execution_count": 28,
   "id": "c24d63d6",
   "metadata": {},
   "outputs": [
    {
     "name": "stdout",
     "output_type": "stream",
     "text": [
      "Enter the Number :10\n",
      "1\n",
      "2\n",
      "5\n"
     ]
    }
   ],
   "source": [
    "#11. Write a program to find the given number is perfect number\n",
    "\n",
    "num = int(input(\"Enter the Number :\"))\n",
    "for i in range(1, num):\n",
    "       if num % i == 0:\n",
    "           print(i)"
   ]
  },
  {
   "cell_type": "code",
   "execution_count": 29,
   "id": "50534b3d",
   "metadata": {},
   "outputs": [
    {
     "name": "stdout",
     "output_type": "stream",
     "text": [
      "1\n",
      "2\n",
      "4\n",
      "5\n",
      "8\n",
      "10\n",
      "20\n",
      "25\n",
      "40\n",
      "50\n",
      "100\n",
      "125\n",
      "200\n",
      "250\n",
      "500\n"
     ]
    }
   ],
   "source": [
    "#12. Write a program to print the perfect number between 1-1000\n",
    "num = 1000\n",
    "for i in range(1, num):\n",
    "       if num % i == 0:\n",
    "           print(i)"
   ]
  },
  {
   "cell_type": "code",
   "execution_count": 31,
   "id": "8c4e119c",
   "metadata": {},
   "outputs": [
    {
     "name": "stdout",
     "output_type": "stream",
     "text": [
      "Enter the Number :30\n",
      "30 is not a Strong Number\n"
     ]
    }
   ],
   "source": [
    "#13. Write a program to find the given number is strong number\n",
    "num = int(input(\"Enter the Number :\"))\n",
    "a=num\n",
    "sum=0\n",
    "while (num>0):\n",
    "    rem=num%10;\n",
    "    fact=1;\n",
    "    for i in range(1,rem+1):\n",
    "        fact=fact*i\n",
    "    sum=sum+fact;\n",
    "    num=num//10;\n",
    "if (sum == a):\n",
    "    print(a,\"is Strong Number\");\n",
    "else:\n",
    "    print(a ,\"is not a Strong Number\");"
   ]
  },
  {
   "cell_type": "code",
   "execution_count": 32,
   "id": "e5a1a62c",
   "metadata": {},
   "outputs": [
    {
     "name": "stdout",
     "output_type": "stream",
     "text": [
      "Enter the Base Number :3\n",
      "Enter the Power Number :2\n",
      "Answer : 9\n"
     ]
    }
   ],
   "source": [
    "#14. Two numbers are entered through the keyboard. \n",
    "#Write a program to find the value of one number raised to the power of another\n",
    "\n",
    "base = int(input(\"Enter the Base Number :\"))\n",
    "pow = int(input(\"Enter the Power Number :\"))\n",
    "#res=(base**pow)\n",
    "#print(\"Answer :\",res)\n",
    "res = 1\n",
    "while pow != 0:\n",
    "    res *= base\n",
    "    pow-=1\n",
    " \n",
    "print(\"Answer :\",res)"
   ]
  },
  {
   "cell_type": "code",
   "execution_count": null,
   "id": "ed976983",
   "metadata": {},
   "outputs": [],
   "source": []
  }
 ],
 "metadata": {
  "kernelspec": {
   "display_name": "Python 3 (ipykernel)",
   "language": "python",
   "name": "python3"
  },
  "language_info": {
   "codemirror_mode": {
    "name": "ipython",
    "version": 3
   },
   "file_extension": ".py",
   "mimetype": "text/x-python",
   "name": "python",
   "nbconvert_exporter": "python",
   "pygments_lexer": "ipython3",
   "version": "3.11.4"
  }
 },
 "nbformat": 4,
 "nbformat_minor": 5
}

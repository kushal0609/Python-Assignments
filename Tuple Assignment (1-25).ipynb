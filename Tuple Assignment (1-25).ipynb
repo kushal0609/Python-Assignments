{
 "cells": [
  {
   "cell_type": "code",
   "execution_count": 1,
   "id": "9685f4e5",
   "metadata": {},
   "outputs": [
    {
     "name": "stdout",
     "output_type": "stream",
     "text": [
      "()\n"
     ]
    }
   ],
   "source": [
    "#1. Write a Python program to create a tuple\n",
    "#Sample Output: Tuple = ()\n",
    "\n",
    "a = ()\n",
    "print(a)"
   ]
  },
  {
   "cell_type": "code",
   "execution_count": 2,
   "id": "298a1612",
   "metadata": {},
   "outputs": [
    {
     "name": "stdout",
     "output_type": "stream",
     "text": [
      "('Tutor Joes', True, 'T', 3.21, 10)\n"
     ]
    }
   ],
   "source": [
    "#2. Write a Python program to create a tuple with different data types\n",
    "#Sample Output:('Tutor Joes', True, 'T', 3.21, 10)\n",
    "\n",
    "x = (\"Tutor Joes\", True,'T', 3.21, 10)\n",
    "print(x)"
   ]
  },
  {
   "cell_type": "code",
   "execution_count": 5,
   "id": "4130e4e7",
   "metadata": {},
   "outputs": [
    {
     "name": "stdout",
     "output_type": "stream",
     "text": [
      "10\n",
      "Type = <class 'int'>\n"
     ]
    }
   ],
   "source": [
    "#3. Write a Python program to create a tuple with numbers and print one item\n",
    "#Sample Output: 10 , Type = tuple\n",
    "a = 10\n",
    "print(a)\n",
    "print(\"Type =\" ,type(a))"
   ]
  },
  {
   "cell_type": "code",
   "execution_count": 8,
   "id": "90d9ed4c",
   "metadata": {},
   "outputs": [
    {
     "name": "stdout",
     "output_type": "stream",
     "text": [
      "(4, 8, 3)\n",
      "15\n"
     ]
    }
   ],
   "source": [
    "#4. Write a Python program to unpack a tuple in several variables\n",
    "#Sample Output : a = 4, 8, 3  ,(4, 8, 3)\n",
    "\n",
    "#create a tuple\n",
    "a = 4, 8, 3 \n",
    "print(a)\n",
    "n1, n2, n3 = a\n",
    "#unpack a tuple in variables\n",
    "print(n1 + n2 + n3) \n",
    "\n",
    "\n"
   ]
  },
  {
   "cell_type": "code",
   "execution_count": 11,
   "id": "e7f6e624",
   "metadata": {},
   "outputs": [
    {
     "name": "stdout",
     "output_type": "stream",
     "text": [
      "(10, 40, 50, 70, 90)\n",
      "(10, 40, 50, 70, 90, 20)\n",
      "(10, 40, 50, 70, 90, 20, 30)\n"
     ]
    }
   ],
   "source": [
    "#5. Write a Python program to add an item in a tuple\n",
    "#Sample Output : (10, 40, 50, 70, 90)  ,add items in list = 20   ,(10, 40, 50, 70, 90, 20)\n",
    "\n",
    "#create a tuple\n",
    "t = (10,40,50,70,90) \n",
    "print(t)\n",
    "t = t + (20,)\n",
    "print(t)\n",
    "#converting the tuple to list\n",
    "l = list(t) \n",
    "#use different ways to add items in list\n",
    "l.append(30)\n",
    "t = tuple(l)\n",
    "print(t)"
   ]
  },
  {
   "cell_type": "code",
   "execution_count": 12,
   "id": "2880a16d",
   "metadata": {},
   "outputs": [
    {
     "name": "stdout",
     "output_type": "stream",
     "text": [
      "Tutor Joes\n"
     ]
    }
   ],
   "source": [
    "#6. Write a Python program to convert a tuple to a string\n",
    "#Sample Output:('T', 'u', 't', 'o', 'r', ' ', 'J', 'o', 'e', 's')  ,Tutor Joes\n",
    "\n",
    "t = ('T', 'u', 't', 'o', 'r', ' ', 'J', 'o', 'e', 's')\n",
    "s =  ''.join(t)\n",
    "print(s)"
   ]
  },
  {
   "cell_type": "code",
   "execution_count": 13,
   "id": "5c366897",
   "metadata": {},
   "outputs": [
    {
     "name": "stdout",
     "output_type": "stream",
     "text": [
      "('w', 3, 'r', 'e', 's', 'o', 'u', 'r', 'c', 'e')\n",
      "4th Elements From Tuple : e\n",
      "4th Elements From Last Tuple : u\n"
     ]
    }
   ],
   "source": [
    "#7. Write a Python program to get the 4th element and 4th element from last of a tuple\n",
    "#Sample Output : ('w', 3, 'r', 'e', 's', 'o', 'u', 'r', 'c', 'e')\n",
    "#4th Elements From Tuple : e\n",
    "#4th Elements From Last Tuple : u\n",
    "\n",
    "t = (\"w\", 3, \"r\", \"e\", \"s\", \"o\", \"u\", \"r\", \"c\", \"e\")\n",
    "print(t)\n",
    "#Get item (4th element)of the tuple by index\n",
    "i = t[3]\n",
    "print(\"4th Elements From Tuple :\",i)\n",
    "#Get item (4th element from last)by index negative\n",
    "j = t[-4]\n",
    "print(\"4th Elements From Last Tuple :\",j)\n"
   ]
  },
  {
   "cell_type": "code",
   "execution_count": 16,
   "id": "10e0a833",
   "metadata": {},
   "outputs": [
    {
     "name": "stdout",
     "output_type": "stream",
     "text": [
      "('Tutor', 'J', 23, 56.67, [23, 12], True)\n",
      "('Tutor', 'J', 23, 56.67, [23, 12], True)\n"
     ]
    }
   ],
   "source": [
    "#8. Write a Python program to create the colon of a tuple\n",
    "#Sample Output : (\"Tutor\", 'J', 23 , 56.67 , [23,12] , True)\n",
    "#Copy = ('Tutor', 'J', 23, 56.67, [23, 12], True)\n",
    "\n",
    "from copy import deepcopy\n",
    "#create a tuple\n",
    "t = (\"Tutor\", 'J', 23 , 56.67 , [23,12] , True) \n",
    "print(t)\n",
    "#make a copy of a tuple using deepcopy() function\n",
    "tc = deepcopy(t)\n",
    "print(tc)\n"
   ]
  },
  {
   "cell_type": "code",
   "execution_count": 20,
   "id": "32dd0c44",
   "metadata": {},
   "outputs": [
    {
     "name": "stdout",
     "output_type": "stream",
     "text": [
      "(2, 34, 45, 6, 7, 2, 4, 5, 78, 34, 2)\n",
      "Repeated items of a tuple = 3\n"
     ]
    }
   ],
   "source": [
    "#9. Write a Python program to find the repeated items of a tuple\n",
    "#Sample Output: (2, 34, 45, 6, 7, 2, 4, 5, 78, 34, 2)\n",
    "#item = 2\n",
    "#Repeated items of a tuple = 3\n",
    "\n",
    "\n",
    "t = (2,34,45,6,7,2,4,5,78,34,2)\n",
    "print(t)\n",
    "count = t.count(2)\n",
    "print(\"Repeated items of a tuple =\",count)"
   ]
  },
  {
   "cell_type": "code",
   "execution_count": 29,
   "id": "9eba6aaf",
   "metadata": {},
   "outputs": [
    {
     "name": "stdout",
     "output_type": "stream",
     "text": [
      "8 in Tuple =  True\n",
      "'x' in Tuple = False\n"
     ]
    }
   ],
   "source": [
    "#10. Write a Python program to check whether an element exists within a tuple\n",
    "#Sample Output :('T', 'u', 't', 'o', 'r', ' ', 'J', 'o', 'e', 's',8)\n",
    "#8 in Tuple = True\n",
    "#'x' in Tuple = False\n",
    "\n",
    "t = ('T', 'u', 't', 'o', 'r', ' ', 'J', 'o', 'e', 's',8)\n",
    "print(\"8 in Tuple = \",8 in t)\n",
    "print(\"'x' in Tuple =\" ,'x' in t)\n"
   ]
  },
  {
   "cell_type": "code",
   "execution_count": 30,
   "id": "6989dd4c",
   "metadata": {},
   "outputs": [
    {
     "name": "stdout",
     "output_type": "stream",
     "text": [
      "[12, 45, 87, 54, 89, 4]\n",
      "<class 'list'>\n",
      "(12, 45, 87, 54, 89, 4)\n",
      "<class 'tuple'>\n"
     ]
    }
   ],
   "source": [
    "#11. Write a Python program to convert a list to a tuple\n",
    "#Sample Output :  [12, 45, 87, 54, 89, 4]  ,(12, 45, 87, 54, 89, 4)\n",
    "\n",
    "l = [12,45,87,54,89,4]\n",
    "print(l)\n",
    "print(type(l))\n",
    "t = tuple(l)\n",
    "print(t)\n",
    "print(type(t))"
   ]
  },
  {
   "cell_type": "code",
   "execution_count": 33,
   "id": "39eea447",
   "metadata": {},
   "outputs": [
    {
     "name": "stdout",
     "output_type": "stream",
     "text": [
      "Original tuple : (23, 45, 56, 68, 10, 45, 7, 9)\n",
      "[23, 45, 56, 68, 10, 45, 7, 9]\n",
      "After Removing 56 from tuple  : (23, 45, 68, 10, 45, 7, 9)\n"
     ]
    }
   ],
   "source": [
    "#12. Write a Python program to remove an item from a tuple\n",
    "#Sample Output:(23, 45, 56, 68, 10, 45, 7, 9)\n",
    "#Remove = 56\n",
    "#(23, 45, 68, 10, 45, 7, 9)\n",
    "\n",
    "a = (23,45,56,68,10,45,7,9)\n",
    "print(\"Original tuple :\",a)\n",
    "b = list(a)\n",
    "b.remove(56)\n",
    "a = tuple(b)\n",
    "print(\"After Removing 56 from tuple  :\",a)\n",
    "\n"
   ]
  },
  {
   "cell_type": "code",
   "execution_count": 35,
   "id": "561ef4e6",
   "metadata": {},
   "outputs": [
    {
     "name": "stdout",
     "output_type": "stream",
     "text": [
      "(40, 50, 60, 70, 80)\n",
      "(60, 70, 80, 90)\n",
      "(10, 20, 30)\n"
     ]
    }
   ],
   "source": [
    "#13. Write a Python program to slice a tuple\n",
    "#Sample Output:(10, 20, 30, 40, 50, 60, 70, 80, 90, 100)\n",
    "#(40, 50, 60, 70, 80)\n",
    "\n",
    "a = (10,20,30,40,50,60,70,80,90,100)\n",
    "print(a[3:8])\n",
    "print(a[5:9])\n",
    "print(a[0:3])"
   ]
  },
  {
   "cell_type": "code",
   "execution_count": 40,
   "id": "521f5c9b",
   "metadata": {},
   "outputs": [
    {
     "name": "stdout",
     "output_type": "stream",
     "text": [
      "(23, 45, 67, 78, 89, 90, 34, 56)\n",
      "Item = 78\n",
      "Index Number : 3\n"
     ]
    }
   ],
   "source": [
    "#14. Write a Python program to find the index of an item of a tuple\n",
    "#Sample Output:(23, 45, 67, 78, 89, 90, 34, 56)\n",
    "#Item = 78\n",
    "#Index Number : 3\n",
    "\n",
    "#    0   1  2  3  4  5  6  7\n",
    "a = (23,45,67,78,89,90,34,56)\n",
    "print(a)\n",
    "print(\"Item = 78\")\n",
    "print(\"Index Number :\",a.index(78))\n"
   ]
  },
  {
   "cell_type": "code",
   "execution_count": 42,
   "id": "8b0758d9",
   "metadata": {},
   "outputs": [
    {
     "name": "stdout",
     "output_type": "stream",
     "text": [
      "('Lion', 'Cat', 'Dog', 'Panda', 'Tiger', 'Fox')\n",
      "Length : 6\n"
     ]
    }
   ],
   "source": [
    "#15. Write a Python program to find the length of a tuple\n",
    "#Sample Output :\n",
    "#(\"Lion\", \"Cat\", \"Dog\", \"Panda\", \"Tiger\", \"Fox\")\n",
    "#Length : 6\n",
    "\n",
    "a = (\"Lion\",\"Cat\",\"Dog\",\"Panda\",\"Tiger\",\"Fox\")\n",
    "print(a)\n",
    "print(\"Length :\",len(a))\n"
   ]
  },
  {
   "cell_type": "code",
   "execution_count": 43,
   "id": "ca9b5bcf",
   "metadata": {},
   "outputs": [
    {
     "name": "stdout",
     "output_type": "stream",
     "text": [
      "(('Name', 'Ram'), ('Age', 23), ('City', 'Salem'), ('Mark', 422))\n",
      "{'Name': 'Ram', 'Age': 23, 'City': 'Salem', 'Mark': 422}\n"
     ]
    }
   ],
   "source": [
    "#16. Write a Python program to convert a tuple to a dictionary\n",
    "#Sample Output\n",
    "#( (\"Name\", \"Ram\"), (\"Age\", 23), (\"City\", \"Salem\"), (\"Mark\", 422) )\n",
    "#{ 'Name': 'Ram', 'Age': 23, 'City': 'Salem', 'Mark': 422 }\n",
    "\n",
    "#create a tuple\n",
    "t = ((\"Name\", \"Ram\"),(\"Age\", 23),(\"City\", \"Salem\"),(\"Mark\", 422))\n",
    "print(t)\n",
    "print(dict((k,v) for k, v in t))"
   ]
  },
  {
   "cell_type": "code",
   "execution_count": 46,
   "id": "e381ab84",
   "metadata": {},
   "outputs": [
    {
     "name": "stdout",
     "output_type": "stream",
     "text": [
      "[(10, 30), (60, 90), (20, 50)]\n",
      "[(10, 60, 20), (30, 90, 50)]\n"
     ]
    }
   ],
   "source": [
    "#17. Write a Python program to unzip a list of tuples into individual lists\n",
    "#Sample Output\n",
    "#[ (10,30), (60,90), (20,50) ]\n",
    "#[ (10, 60, 20), (30, 90, 50) ]\n",
    "\n",
    "#create a tuple\n",
    "l = [(10,30), (60,90), (20,50)]\n",
    "print(l)\n",
    "print(list(zip(*l)))"
   ]
  },
  {
   "cell_type": "code",
   "execution_count": 47,
   "id": "86d05c94",
   "metadata": {},
   "outputs": [
    {
     "name": "stdout",
     "output_type": "stream",
     "text": [
      "Before Reverse : (23, 45, 67, 78, 89, 90, 34, 56)\n",
      "After Reverse : (56, 34, 90, 89, 78, 67, 45, 23)\n"
     ]
    }
   ],
   "source": [
    "#18. Write a Python program to reverse a tuple\n",
    "#Sample Output\n",
    "#Before Reverse : ( 23, 45, 67, 78, 89, 90, 34, 56 )\n",
    "#After Reverse : ( 56, 34, 90, 89, 78, 67, 45, 23 )\n",
    "\n",
    "a = (23,45,67,78,89,90,34,56)\n",
    "print(\"Before Reverse :\",a)\n",
    "\"\"\"\n",
    "#First Method\n",
    "print(\"After Reverse :\",a[::-1])\n",
    " \n",
    "#Second Method\n",
    "b = list(a)\n",
    "b.reverse()\n",
    "a = tuple(b)\n",
    "print(\"After Reverse :\",a)\n",
    "\"\"\"\n",
    "#Third Method\n",
    "y = reversed(a)\n",
    "print(\"After Reverse :\",tuple(y))"
   ]
  },
  {
   "cell_type": "code",
   "execution_count": 51,
   "id": "7a2d2eb8",
   "metadata": {},
   "outputs": [
    {
     "name": "stdout",
     "output_type": "stream",
     "text": [
      "[('Name', 'Ram'), ('Name', 'Pooja'), ('Name', 'Sara'), ('Age', 21), ('Gender', 'Male'), ('Age', 23), ('Gender', 'Female'), ('Gender', 'Female'), ('Age', 22)]\n",
      "{'Name': ['Ram', 'Pooja', 'Sara'], 'Age': [21, 23, 22], 'Gender': ['Male', 'Female', 'Female']}\n"
     ]
    }
   ],
   "source": [
    "#19. Write a Python program to convert a list of tuples into a dictionary\n",
    "#Sample Output\n",
    "#[ (\"Name\", \"Ram\"), (\"Name\", \"Pooja\"), (\"Age\", 21), (\"Gender\", \"Male\"), (\"Age\", 23), (\"Gender\", \"Female\") ]\n",
    "#{ 'Name' : ['Ram', 'Pooja'], 'Age' : [21, 23], 'Gender' : ['Male', 'Female'] }\n",
    "\n",
    "l = [(\"Name\", \"Ram\"), (\"Name\", \"Pooja\"), (\"Name\", \"Sara\"), (\"Age\", 21), (\"Gender\", \"Male\"), (\"Age\", 23), (\"Gender\", \"Female\"), (\"Gender\", \"Female\") , (\"Age\", 22)]\n",
    "print(l)\n",
    "dicn = {}\n",
    "for x, y in l:\n",
    "    dicn.setdefault(x, []).append(y)\n",
    "print (dicn)"
   ]
  },
  {
   "cell_type": "code",
   "execution_count": 56,
   "id": "6b6c363b",
   "metadata": {},
   "outputs": [
    {
     "name": "stdout",
     "output_type": "stream",
     "text": [
      "Fruits('watermelons', 'strawberries', 'mangoes', 'bananas', 'grapefruits', 'oranges', 'apples', 'pears')\n"
     ]
    }
   ],
   "source": [
    "#20. Write a Python program to print a tuple with string formatting\n",
    "#Sample Output\n",
    "#(\"watermelons\", \"strawberries\", \"mangoes\", \"bananas\", \"grapefruits\", \"oranges\", \"apples\", \"pears\")\n",
    "#Fruits ('watermelons', 'strawberries', 'mangoes', 'bananas', 'grapefruits', 'oranges', 'apples', 'pears')\n",
    "\n",
    "t = (\"watermelons\", \"strawberries\", \"mangoes\", \"bananas\", \"grapefruits\", \"oranges\", \"apples\", \"pears\")\n",
    "print('Fruits{0}'.format(t))"
   ]
  },
  {
   "cell_type": "code",
   "execution_count": 60,
   "id": "98110b29",
   "metadata": {},
   "outputs": [
    {
     "name": "stdout",
     "output_type": "stream",
     "text": [
      "(23,)\n",
      "type= <class 'tuple'>\n"
     ]
    }
   ],
   "source": [
    "#21. Create a tuple with single item 23\n",
    "#Sample Output\n",
    "#Create a tuple with Item = 23\n",
    "#Type = tuple\n",
    "\n",
    "t= (23,)\n",
    "print(t)\n",
    "print(\"type=\",type(t))\n"
   ]
  },
  {
   "cell_type": "code",
   "execution_count": 63,
   "id": "67b82109",
   "metadata": {},
   "outputs": [
    {
     "name": "stdout",
     "output_type": "stream",
     "text": [
      "11\n",
      "22\n",
      "33\n",
      "44\n",
      "55\n"
     ]
    }
   ],
   "source": [
    "#22. Unpack the tuple into 5 variables\n",
    "#Sample Output\n",
    "#Tuple = (11, 22, 33, 44, 55)\n",
    "#11 22 33 44 55\n",
    "\n",
    "t= (11, 22, 33, 44, 55)\n",
    " \n",
    "m, n, p, q, r = t\n",
    "print(m)\n",
    "print(n)\n",
    "print(p)\n",
    "print(q)\n",
    "print(r)\n"
   ]
  },
  {
   "cell_type": "code",
   "execution_count": 67,
   "id": "f6c9f001",
   "metadata": {},
   "outputs": [
    {
     "name": "stdout",
     "output_type": "stream",
     "text": [
      "Before Swap A : 10\n",
      "Before Swap B : 20\n",
      "After Swap A : 20\n",
      "After Swap B : 10\n"
     ]
    }
   ],
   "source": [
    "#23. Swap two tuples in Python\n",
    "#Sample Output\n",
    "#Before Swap A : 10\n",
    "#Before Swap B : 20\n",
    "#After Swap A : 20\n",
    "#After Swap B : 10\n",
    "\n",
    "\n",
    "a=10\n",
    "b=20\n",
    "print(\"Before Swap A :\",a)\n",
    "print(\"Before Swap B :\",b)\n",
    "#First Method\n",
    "a , b = b, a\n",
    "\n",
    "print(\"After Swap A :\",a)\n",
    "print(\"After Swap B :\",b)"
   ]
  },
  {
   "cell_type": "code",
   "execution_count": 70,
   "id": "fadf8847",
   "metadata": {},
   "outputs": [
    {
     "name": "stdout",
     "output_type": "stream",
     "text": [
      "(30, 40, 50, 60, 70, 80)\n"
     ]
    }
   ],
   "source": [
    "#24. Copy specific elements from one tuple to a new tuple\n",
    "#Sample Output: (10, 20, 30, 40, 50, 60, 70, 80, 90, 100)\n",
    "#(30, 40, 50, 60, 70, 80)\n",
    "\n",
    "t1 = (10,20,30,40,50,60,70,80,90,100)\n",
    "t2 = t1[2:8]\n",
    "print(t2)"
   ]
  },
  {
   "cell_type": "code",
   "execution_count": 75,
   "id": "36d41c35",
   "metadata": {},
   "outputs": [
    {
     "name": "stdout",
     "output_type": "stream",
     "text": [
      "Original Tuple : (10, 20, 30, 40, 50)\n"
     ]
    },
    {
     "ename": "TypeError",
     "evalue": "'tuple' object is not callable",
     "output_type": "error",
     "traceback": [
      "\u001b[1;31m---------------------------------------------------------------------------\u001b[0m",
      "\u001b[1;31mTypeError\u001b[0m                                 Traceback (most recent call last)",
      "Cell \u001b[1;32mIn[75], line 10\u001b[0m\n\u001b[0;32m      8\u001b[0m l2 \u001b[38;5;241m=\u001b[39m \u001b[38;5;28mlist\u001b[39m(my)\n\u001b[0;32m      9\u001b[0m l2[\u001b[38;5;241m2\u001b[39m]\u001b[38;5;241m=\u001b[39m\u001b[38;5;241m33\u001b[39m\n\u001b[1;32m---> 10\u001b[0m my \u001b[38;5;241m=\u001b[39m \u001b[38;5;28mtuple\u001b[39m(l2)\n\u001b[0;32m     11\u001b[0m \u001b[38;5;28mprint\u001b[39m(\u001b[38;5;124m\"\u001b[39m\u001b[38;5;124mModify Tuple :\u001b[39m\u001b[38;5;124m\"\u001b[39m,my)\n",
      "\u001b[1;31mTypeError\u001b[0m: 'tuple' object is not callable"
     ]
    }
   ],
   "source": [
    "#25. Modify the tuple\n",
    "#Sample Output\n",
    "#( 10, 20, 30, 40, 50 )\n",
    "#( 10, 20, 33, 40, 50 )\n",
    "\n",
    "my = (10,20,30,40,50)\n",
    "print(\"Original Tuple :\",my)\n",
    "l2 = list(my)\n",
    "l2[2]=33\n",
    "my = tuple(l2)\n",
    "print(\"Modify Tuple :\",my)"
   ]
  },
  {
   "cell_type": "code",
   "execution_count": null,
   "id": "d5b4e238",
   "metadata": {},
   "outputs": [],
   "source": []
  }
 ],
 "metadata": {
  "kernelspec": {
   "display_name": "Python 3 (ipykernel)",
   "language": "python",
   "name": "python3"
  },
  "language_info": {
   "codemirror_mode": {
    "name": "ipython",
    "version": 3
   },
   "file_extension": ".py",
   "mimetype": "text/x-python",
   "name": "python",
   "nbconvert_exporter": "python",
   "pygments_lexer": "ipython3",
   "version": "3.11.4"
  }
 },
 "nbformat": 4,
 "nbformat_minor": 5
}

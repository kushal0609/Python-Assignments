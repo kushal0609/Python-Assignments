{
 "cells": [
  {
   "cell_type": "code",
   "execution_count": 1,
   "id": "e87e3e1a",
   "metadata": {},
   "outputs": [
    {
     "name": "stdout",
     "output_type": "stream",
     "text": [
      "(('d', 1), ('e', 18), ('c', 23), ('b', 37), ('a', 53))\n"
     ]
    }
   ],
   "source": [
    "#26. Sort a tuple of tuples by 2nd item\n",
    "#Sample Output\n",
    "#( ('a', 53), ('b', 37), ('c', 23), ('d', 1), ('e', 18) )\n",
    "#( ('d', 1), ('e', 18), ('c', 23), ('b', 37), ('a', 53) )\n",
    "\n",
    "t = (('a', 53), ('b', 37), ('c', 23), ('d', 1), ('e', 18))\n",
    "t = tuple(sorted(list(t), key=lambda x: x[1]))\n",
    "print(t)\n"
   ]
  },
  {
   "cell_type": "code",
   "execution_count": 2,
   "id": "e09b6961",
   "metadata": {},
   "outputs": [
    {
     "name": "stdout",
     "output_type": "stream",
     "text": [
      "Number of Counts 30 : 3\n"
     ]
    }
   ],
   "source": [
    "#27. Counts the number of occurrences of item 30 from a tuple\n",
    "#Sample Output :(30, 50, 10, 30, 70, 50, 30)\n",
    "#Number of Counts 30 : 3\n",
    "\n",
    "t = (30, 50, 10, 30, 70, 50, 30)\n",
    "print(\"Number of Counts 30 :\",t.count(30))"
   ]
  },
  {
   "cell_type": "code",
   "execution_count": 3,
   "id": "fb5f3ff7",
   "metadata": {},
   "outputs": [
    {
     "name": "stdout",
     "output_type": "stream",
     "text": [
      "A : (2, 5, 8)\n",
      "B : (6, 5, 1)\n",
      "C : (1, 4, 7)\n",
      "D : (3, 7, 2)\n",
      "Sum of Elements: (12, 21, 18)\n"
     ]
    }
   ],
   "source": [
    "#28. Write a Python program to compute element-wise sum of given tuples\n",
    "#Sample Output\n",
    "\n",
    "A = (2, 5, 8)\n",
    "B = (6, 5, 1)\n",
    "C = (1, 4, 7)\n",
    "D = (3, 7, 2)\n",
    "print(\"A :\",A)\n",
    "print(\"B :\",B)\n",
    "print(\"C :\",C)\n",
    "print(\"D :\",D)\n",
    "res = tuple(map(sum, zip(A, B, C, D)))\n",
    "print(\"Sum of Elements:\",res)\n",
    "\n"
   ]
  },
  {
   "cell_type": "code",
   "execution_count": 4,
   "id": "368f6200",
   "metadata": {},
   "outputs": [
    {
     "name": "stdout",
     "output_type": "stream",
     "text": [
      "[('Jeeva', '91.40'), ('Ram', '89.20'), ('Pooja', '84.40'), ('Siva', '76.45'), ('Tara', '68.43')]\n"
     ]
    }
   ],
   "source": [
    "#29. Write a Python program to sort a tuple by its float element\n",
    "#Sample Output\n",
    "#[ ('Ram', '89.20'), ('Siva', '76.45'), ('Pooja', '84.40'), ('Tara', '68.43'), ('Jeeva', '91.40') ]\n",
    "#[ ('Jeeva', '91.40'), ('Ram', '89.20'), ('Pooja', '84.40'), ('Siva', '76.45'), ('Tara', '68.43') ]\n",
    "\n",
    "Percent = [('Ram', '89.20'), ('Siva', '76.45'), ('Pooja', '84.40'), ('Tara', '68.43'), ('Jeeva', '91.40')]\n",
    "print( sorted(Percent, key=lambda a: float(a[1]), reverse=True))"
   ]
  },
  {
   "cell_type": "code",
   "execution_count": 5,
   "id": "ff10eb5c",
   "metadata": {},
   "outputs": [
    {
     "name": "stdout",
     "output_type": "stream",
     "text": [
      "[(5, 2, 10), (4, 7, 10), (8, 9, 10)]\n"
     ]
    }
   ],
   "source": [
    "#30. Write a Python program to replace last value of tuples in a list\n",
    "#Sample Output :[(5, 2, 3), (4, 7, 6), (8, 9, 6)]\n",
    "#Replace value = 10\n",
    "#[(5, 2, 10),(4, 7, 10),(8, 9, 10)]\n",
    "\n",
    "\n",
    "l = [(5, 2, 3), (4, 7, 6), (8, 9, 6)]\n",
    "print([t[:-1] + (10,) for t in l])"
   ]
  },
  {
   "cell_type": "code",
   "execution_count": 6,
   "id": "a4360647",
   "metadata": {},
   "outputs": [
    {
     "name": "stdout",
     "output_type": "stream",
     "text": [
      "Original List :  [(47, 23), (3, 78), (22, 53), (121, 45), (7,)]\n",
      "Extracted Tuples :  [(47, 23), (22, 53)]\n"
     ]
    }
   ],
   "source": [
    "#31. Write a Python program to Extract tuples having K digit elements\n",
    "#Sample Output\n",
    "#[ (47, 23), (3, 78), (22, 53), (121, 45), (7,) ]\n",
    "#K = 2\n",
    "#[ (47, 23), (22, 53) ]\n",
    "\n",
    "val = [(47, 23), (3, 78), (22, 53), (121, 45), (7, )]\n",
    "print(\"Original List : \" ,val)\n",
    "K = 2\n",
    "res = [sub for sub in val if all(len(str(ele)) == K for ele in sub)]\n",
    " \n",
    "print(\"Extracted Tuples : \" ,res)"
   ]
  },
  {
   "cell_type": "code",
   "execution_count": 7,
   "id": "57c5a8f4",
   "metadata": {},
   "outputs": [
    {
     "name": "stdout",
     "output_type": "stream",
     "text": [
      "The original list is :  [(18, 23), (2, 9), (7, 6), (9, 2), (10, 2), (23, 18)]\n",
      "The Symmetric tuples :  {(2, 9), (18, 23)}\n"
     ]
    }
   ],
   "source": [
    "#32. Write a Python program to Extract Symmetric Tuples\n",
    "#Sample Output\n",
    "#[ (18, 23), (2, 9), (7, 6), (9, 2), (10, 2), (23, 18) ]\n",
    "#{ (2, 9), (18, 23) }\n",
    "\n",
    "val = [(18, 23), (2, 9), (7, 6), (9, 2), (10, 2), (23, 18)]\n",
    "print(\"The original list is : \" ,val)\n",
    "temp = set(val) & {(b, a) for a, b in val}\n",
    "res = {(a, b) for a, b in temp if a < b}\n",
    " \n",
    "print(\"The Symmetric tuples : \" , res)"
   ]
  },
  {
   "cell_type": "code",
   "execution_count": 8,
   "id": "236f432f",
   "metadata": {},
   "outputs": [
    {
     "name": "stdout",
     "output_type": "stream",
     "text": [
      "The original list is : [(4, 5, 5, 7), (1, 3, 7, 4), (19, 4, 5, 3), (1, 2)]\n",
      "Sorted Tuples :  [(19, 4, 5, 3), (4, 5, 5, 7), (1, 3, 7, 4), (1, 2)]\n"
     ]
    }
   ],
   "source": [
    "#33. Write a Python program to Sort Tuples by their Maximum element\n",
    "#Sample Output\n",
    "#[ (4, 5, 5, 7), (1, 3, 7, 4), (19, 4, 5, 3), (1, 2) ]\n",
    "#[ (19, 4, 5, 3), (4, 5, 5, 7), (1, 3, 7, 4), (1, 2) ]\n",
    "\n",
    "val = [(4, 5, 5, 7), (1, 3, 7, 4), (19, 4, 5, 3), (1, 2)]\n",
    "print(\"The original list is : \" + str(val))\n",
    "s = sorted(list(val))\n",
    "s.reverse()\n",
    "print(\"Sorted Tuples : \" , s)"
   ]
  },
  {
   "cell_type": "code",
   "execution_count": 9,
   "id": "1b1e2e70",
   "metadata": {},
   "outputs": [
    {
     "name": "stdout",
     "output_type": "stream",
     "text": [
      "Original Tuple :  (10, 20, (30,), 40, (50, 60), 70)\n",
      "Removal of Nested Tuple :  (10, 20, 40, 70)\n"
     ]
    }
   ],
   "source": [
    "#34. Write a Python program to Remove nested records from tuple\n",
    "#Sample Output\n",
    "#(10, 20, (30,), 40, (50, 60), 70)\n",
    "#Removal of Nested Tuple : (10, 20, 40, 70)\n",
    "\n",
    "val = (10, 20 , (30,), 40, (50, 60), 70)\n",
    "print(\"Original Tuple : \" , val)\n",
    " \n",
    "res=[]\n",
    "for i in val:\n",
    "\tif not type(i) is tuple:\n",
    "\t\tres.append(i)\n",
    "res=tuple(res)\n",
    " \n",
    "print(\"Removal of Nested Tuple : \" ,res)"
   ]
  },
  {
   "cell_type": "code",
   "execution_count": null,
   "id": "d0b56354",
   "metadata": {},
   "outputs": [],
   "source": []
  }
 ],
 "metadata": {
  "kernelspec": {
   "display_name": "Python 3 (ipykernel)",
   "language": "python",
   "name": "python3"
  },
  "language_info": {
   "codemirror_mode": {
    "name": "ipython",
    "version": 3
   },
   "file_extension": ".py",
   "mimetype": "text/x-python",
   "name": "python",
   "nbconvert_exporter": "python",
   "pygments_lexer": "ipython3",
   "version": "3.11.4"
  }
 },
 "nbformat": 4,
 "nbformat_minor": 5
}

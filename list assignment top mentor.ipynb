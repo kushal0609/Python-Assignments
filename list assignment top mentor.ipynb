{
 "cells": [
  {
   "cell_type": "code",
   "execution_count": 3,
   "id": "cdfcf9b1",
   "metadata": {},
   "outputs": [
    {
     "name": "stdout",
     "output_type": "stream",
     "text": [
      "Sum of numbers is 26\n"
     ]
    }
   ],
   "source": [
    "##1. Write a Python program to sum all the items\n",
    "\n",
    "Numbers=[1,7,-10,34,2,-8]\n",
    "Total_sum= sum(Numbers)\n",
    "print(\"Sum of numbers is\", Total_sum)\n",
    "\n"
   ]
  },
  {
   "cell_type": "code",
   "execution_count": 5,
   "id": "17d9b055",
   "metadata": {},
   "outputs": [
    {
     "ename": "NameError",
     "evalue": "name 'mul' is not defined",
     "output_type": "error",
     "traceback": [
      "\u001b[1;31m---------------------------------------------------------------------------\u001b[0m",
      "\u001b[1;31mNameError\u001b[0m                                 Traceback (most recent call last)",
      "Cell \u001b[1;32mIn[5], line 6\u001b[0m\n\u001b[0;32m      3\u001b[0m p \u001b[38;5;241m=\u001b[39m \u001b[38;5;241m1\u001b[39m\n\u001b[0;32m      4\u001b[0m \u001b[38;5;28;01mfor\u001b[39;00m i \u001b[38;5;129;01min\u001b[39;00m Numbers:\n\u001b[0;32m      5\u001b[0m    \u001b[38;5;66;03m# multiply all the elements in the given list\u001b[39;00m\n\u001b[1;32m----> 6\u001b[0m       p \u001b[38;5;241m=\u001b[39m mul(i,p)\n\u001b[0;32m      7\u001b[0m \u001b[38;5;28mprint\u001b[39m(p)\n",
      "\u001b[1;31mNameError\u001b[0m: name 'mul' is not defined"
     ]
    }
   ],
   "source": [
    "##2. Write a Python program to multiply all the items in a list\n",
    "Numbers=[3,4,5,4,7]\n",
    "p = 1\n",
    "for i in Numbers:\n",
    "   # multiply all the elements in the given list\n",
    "      p = mul(i,p)\n",
    "print(p)\n"
   ]
  },
  {
   "cell_type": "code",
   "execution_count": 6,
   "id": "5791bf29",
   "metadata": {},
   "outputs": [
    {
     "name": "stdout",
     "output_type": "stream",
     "text": [
      "34\n"
     ]
    }
   ],
   "source": [
    "##3. Write a Python program to get the largest number from a list [1,7,10,34,2,8]\n",
    "Number=[1,7,10,34,2,8]\n",
    "largest_number=max(Number)\n",
    "print(largest_number)"
   ]
  },
  {
   "cell_type": "code",
   "execution_count": 7,
   "id": "c58dec3e",
   "metadata": {},
   "outputs": [
    {
     "name": "stdout",
     "output_type": "stream",
     "text": [
      "2\n"
     ]
    }
   ],
   "source": [
    "#4. Write a Python program to get the smallest number from a list [51,7,10,34,2,8]\n",
    "Number=[51,7,10,34,2,8]\n",
    "Smallest_Number=min(Number)\n",
    "print(Smallest_Number)"
   ]
  },
  {
   "cell_type": "code",
   "execution_count": 8,
   "id": "facf02cc",
   "metadata": {},
   "outputs": [
    {
     "name": "stdout",
     "output_type": "stream",
     "text": [
      "Number of strings meeting the criteria : 2\n"
     ]
    }
   ],
   "source": [
    "##5. Write a Python program to count the number of strings where the string length is 2 or \n",
    "#more and the first and last character are same from a given list of strings ['abc', 'xyz', 'aba', '1221']\n",
    "# Given list of strings\n",
    "String_variable=['abc', 'xyz', 'aba', '1221']\n",
    "count = 0\n",
    "for string in String_variable:\n",
    "    if len(string) >= 2 and string[0] == string[-1]:\n",
    "        count += 1\n",
    "print(\"Number of strings meeting the criteria :\",count)"
   ]
  },
  {
   "cell_type": "code",
   "execution_count": 69,
   "id": "cd4d597b",
   "metadata": {},
   "outputs": [
    {
     "ename": "TypeError",
     "evalue": "'list' object is not callable",
     "output_type": "error",
     "traceback": [
      "\u001b[1;31m---------------------------------------------------------------------------\u001b[0m",
      "\u001b[1;31mTypeError\u001b[0m                                 Traceback (most recent call last)",
      "Cell \u001b[1;32mIn[69], line 4\u001b[0m\n\u001b[0;32m      1\u001b[0m \u001b[38;5;66;03m#6. Write a Python program to remove duplicates from a  list [1,2,3,7,2,1,5,6,4,8,5,4]\u001b[39;00m\n\u001b[0;32m      3\u001b[0m My_List\u001b[38;5;241m=\u001b[39m[\u001b[38;5;241m1\u001b[39m,\u001b[38;5;241m2\u001b[39m,\u001b[38;5;241m3\u001b[39m,\u001b[38;5;241m7\u001b[39m,\u001b[38;5;241m2\u001b[39m,\u001b[38;5;241m1\u001b[39m,\u001b[38;5;241m5\u001b[39m,\u001b[38;5;241m6\u001b[39m,\u001b[38;5;241m4\u001b[39m,\u001b[38;5;241m8\u001b[39m,\u001b[38;5;241m5\u001b[39m,\u001b[38;5;241m4\u001b[39m]\n\u001b[1;32m----> 4\u001b[0m Remove_duplicate\u001b[38;5;241m=\u001b[39m\u001b[38;5;28mlist\u001b[39m(\u001b[38;5;28mset\u001b[39m(My_List))\n\u001b[0;32m      5\u001b[0m \u001b[38;5;28mprint\u001b[39m(Remove_duplicate)\n",
      "\u001b[1;31mTypeError\u001b[0m: 'list' object is not callable"
     ]
    }
   ],
   "source": [
    "#6. Write a Python program to remove duplicates from a  list [1,2,3,7,2,1,5,6,4,8,5,4]\n",
    "\n",
    "My_List=[1,2,3,7,2,1,5,6,4,8,5,4]\n",
    "Remove_duplicate=list(set(My_List))\n",
    "print(Remove_duplicate)"
   ]
  },
  {
   "cell_type": "code",
   "execution_count": 11,
   "id": "06da2499",
   "metadata": {},
   "outputs": [
    {
     "name": "stdout",
     "output_type": "stream",
     "text": [
      "The list is not empty.\n"
     ]
    }
   ],
   "source": [
    "##7. Write a Python program to check a list is empty or not [34,45,6,5,4,56,7]\n",
    "number=[34,45,6,5,4,56,7]\n",
    "# Check if the list is empty\n",
    "if len(number) == 0:\n",
    "    print(\"The list is empty.\")\n",
    "else:\n",
    "    print(\"The list is not empty.\")"
   ]
  },
  {
   "cell_type": "code",
   "execution_count": 12,
   "id": "366f3047",
   "metadata": {},
   "outputs": [
    {
     "name": "stdout",
     "output_type": "stream",
     "text": [
      "copy list [10, 22, 44, 23, 4]\n"
     ]
    }
   ],
   "source": [
    "#8. Write a Python program to clone or copy a numbers=[10, 22, 44, 23, 4]\n",
    "\n",
    "numbers= [10, 22, 44, 23, 4]\n",
    "\n",
    "copy=list(numbers)\n",
    "print(\"copy list\",copy)"
   ]
  },
  {
   "cell_type": "code",
   "execution_count": 13,
   "id": "18881932",
   "metadata": {},
   "outputs": [
    {
     "name": "stdout",
     "output_type": "stream",
     "text": [
      "Lists do not have any common members\n"
     ]
    }
   ],
   "source": [
    "## 10. Write a Program that get two lists as input and check if they have at least one common \n",
    "# member\n",
    "def common_data(list1, list2):\n",
    "    for x in list1:\n",
    "        if x in list2:\n",
    "            return True\n",
    "    return False\n",
    "\n",
    "list1 = [1, 2, 3, 4, 5]\n",
    "list2 = [5, 6, 7, 8, 9]\n",
    "\n",
    "if common_data(list1, list2):\n",
    "    print(\"Lists have at least one common member\")\n",
    "else:\n",
    "    print(\"Lists do not have any common members\")"
   ]
  },
  {
   "cell_type": "code",
   "execution_count": 18,
   "id": "2ecfe3c1",
   "metadata": {},
   "outputs": [
    {
     "name": "stdout",
     "output_type": "stream",
     "text": [
      "['Cat', 'Dog', 'Elephant', 'Fox', 'Tiger', 'Lion', 'Ponda']\n",
      "['Dog', 'Elephant', 'Fox', 'Ponda']\n"
     ]
    }
   ],
   "source": [
    "##11. Write a Python program to print a specified list after removing the 0th, 4th and 5the elements. (enumerate)\n",
    "\n",
    "List=[\"Cat\", \"Dog\", \"Elephant\", \"Fox\", \"Tiger\", \"Lion\", \"Ponda\"]\n",
    "print(List)\n",
    "List= [x for (i,x) in enumerate(List) if i not in (0,4,5)]\n",
    "print(List)\n"
   ]
  },
  {
   "cell_type": "code",
   "execution_count": 20,
   "id": "e66f3716",
   "metadata": {},
   "outputs": [
    {
     "name": "stdout",
     "output_type": "stream",
     "text": [
      "[7, 81, 25, 23, 27]\n"
     ]
    }
   ],
   "source": [
    "##12. Write a Python program to print the numbers of a specified list after removing even numbers from it\n",
    "##Sample Output [7,32,81,20,25,14,23,27]   ,   [7, 81, 25, 23, 27]\n",
    "\n",
    "\n",
    "Num_List = [7,32,81,20,25,14,23,27]\n",
    "Num_List = [x for x in num if x%2!=0]\n",
    "print(List)"
   ]
  },
  {
   "cell_type": "code",
   "execution_count": 25,
   "id": "1a7021bf",
   "metadata": {},
   "outputs": [
    {
     "name": "stdout",
     "output_type": "stream",
     "text": [
      "['Cat', 'Dog', 'Elephant', 'Fox', 'Tiger', 'Lion', 'Ponda']\n",
      "['Cat', 'Tiger', 'Ponda', 'Fox', 'Lion', 'Dog', 'Elephant']\n"
     ]
    }
   ],
   "source": [
    "##13. Write a Python program to shuffle and print a specified list (shuffle)\n",
    "##Sample Output: [\"Cat\", \"Dog\", \"Elephant\", \"Fox\", \"Tiger\", \"Lion\", \"Ponda\"] ['Fox', 'Cat', 'Tiger', 'Lion', 'Dog', 'Ponda', 'Elephant'\n",
    "\n",
    "from random import shuffle\n",
    "Names_ List = [\"Cat\", \"Dog\", \"Elephant\", \"Fox\", \"Tiger\", \"Lion\", \"Ponda\"]\n",
    "print(Names_ List)\n",
    "shuffle(Names_ List)\n",
    "print(Names_ List)\n"
   ]
  },
  {
   "cell_type": "code",
   "execution_count": 36,
   "id": "2dbf636e",
   "metadata": {},
   "outputs": [
    {
     "name": "stdout",
     "output_type": "stream",
     "text": [
      "[1, 4, 9, 16, 25]\n",
      "[625, 676, 729, 784, 841]\n"
     ]
    }
   ],
   "source": [
    "##14. Write a Python program to generate and print a list of first and last 5 elements where the values are square of numbers\n",
    "##between 1 and 30 , Sample Output: First 5 elements : [1, 4, 9, 16, 25],  Last 5 elements : [625, 676, 729, 784, 841]\n",
    "\n",
    "def printValues():\n",
    "    l = list()\n",
    "    for i in range(1,30):\n",
    "        l.append(i**2)\n",
    "    print(l[:5])\n",
    "    print(l[-5:])\n",
    "\n",
    "printValues()"
   ]
  },
  {
   "cell_type": "code",
   "execution_count": 37,
   "id": "00a8d7ff",
   "metadata": {},
   "outputs": [
    {
     "name": "stdout",
     "output_type": "stream",
     "text": [
      "[(1, 2, 3), (1, 3, 2), (2, 1, 3), (2, 3, 1), (3, 1, 2), (3, 2, 1)]\n"
     ]
    }
   ],
   "source": [
    "##15. Write a Python program to generate all permutations of a list in Python. (itertools)\n",
    "##Sample Output: [1,2,3]     ,  [(1, 2, 3), (1, 3, 2), (2, 1, 3), (2, 3, 1), (3, 1, 2), (3, 2, 1)\n",
    "\n",
    "import itertools\n",
    "print(list(itertools.permutations([1,2,3])))"
   ]
  },
  {
   "cell_type": "code",
   "execution_count": 46,
   "id": "8bc0273b",
   "metadata": {},
   "outputs": [
    {
     "name": "stdout",
     "output_type": "stream",
     "text": [
      "Tutor Joes\n"
     ]
    }
   ],
   "source": [
    "##16. Write a Python program to convert a list of characters into a string\n",
    "##Sample Output  ['T','u','t','o','r',' ','J','o','e','s']   Tutor Joes\n",
    "\n",
    "s=['T','u','t','o','r',' ','J','o','e','s']\n",
    "str= ''.join(s)\n",
    "print(str)"
   ]
  },
  {
   "cell_type": "code",
   "execution_count": 52,
   "id": "9754c538",
   "metadata": {},
   "outputs": [
    {
     "name": "stdout",
     "output_type": "stream",
     "text": [
      "[20, 70, 30, 90, 10, 30, 90, 10, 80]\n",
      "Item to find the index of 30\n",
      "Index Number of Item = 2\n"
     ]
    }
   ],
   "source": [
    "#17. Write a Python program to find the index of an item in a specified list\n",
    "#Sample Output : [20, 70, 30, 90, 10, 30, 90, 10, 80]\n",
    "##Item to find the index of 30     ,   Index Number of Item = 2\n",
    "List_Num=[20, 70, 30, 90, 10, 30, 90, 10, 80]\n",
    "print(List_Numt)\n",
    "k=(List_Num.index(30))\n",
    "print(\"Item to find the index of 30\")\n",
    "print(\"Index Number of Item =\",k)\n"
   ]
  },
  {
   "cell_type": "code",
   "execution_count": 1,
   "id": "d8d69f3d",
   "metadata": {},
   "outputs": [
    {
     "name": "stdout",
     "output_type": "stream",
     "text": [
      "[20, 30, 70, 30, 90, 10, 30, 20, 70, 90, 10, 80]\n"
     ]
    }
   ],
   "source": [
    "##18. Write a Python program to flatten a shallow list\n",
    "##Sample Output: [[20,30,70],[30,90,10], [30,20], [70,90,10,80]]  /  [20, 30, 70, 30, 90, 10, 30, 20, 70, 90, 10, 80]\n",
    "\n",
    "import itertools\n",
    "original_list = [[20,30,70],[30,90,10], [30,20], [70,90,10,80]]\n",
    "new_merged_list = list(itertools.chain(*original_list))\n",
    "print(new_merged_list)"
   ]
  },
  {
   "cell_type": "code",
   "execution_count": 2,
   "id": "a4657382",
   "metadata": {},
   "outputs": [
    {
     "name": "stdout",
     "output_type": "stream",
     "text": [
      "[10, 20, 30, 40, 'Cat', 'Dog', 'Lion', 'Ponda']\n"
     ]
    }
   ],
   "source": [
    "#19. Write a Python program to add a list to the second list\n",
    "## Sample Output [10, 20, 30, 40] ,[\"Cat\", \"Dog\", \"Lion\", \"Ponda\"]\n",
    "### result [10, 20, 30, 40, 'Cat', 'Dog', 'Lion', 'Ponda]\n",
    "\n",
    "list1=[10, 20, 30, 40]\n",
    "list2=[\"Cat\", \"Dog\", \"Lion\", \"Ponda\"]\n",
    "final_list=list1+list2\n",
    "print(final_list)\n"
   ]
  },
  {
   "cell_type": "code",
   "execution_count": 5,
   "id": "0ff71b23",
   "metadata": {},
   "outputs": [
    {
     "name": "stdout",
     "output_type": "stream",
     "text": [
      "Dog\n"
     ]
    }
   ],
   "source": [
    "#20. Write a Python program to select an item randomly from a list Using random.choice()\n",
    "#Sample Output : [\"Cat\", \"Dog\", \"Elephant\", \"Fox\", \"Tiger\", \"Lion\", \"Ponda\"]\n",
    "#Item randomly from a list : Fox\n",
    "\n",
    "import random\n",
    "animal_list = [\"Cat\", \"Dog\", \"Elephant\", \"Fox\", \"Tiger\", \"Lion\", \"Ponda\"]\n",
    "print(random.choice(animal_list))"
   ]
  },
  {
   "cell_type": "code",
   "execution_count": 7,
   "id": "2a2d59ab",
   "metadata": {},
   "outputs": [
    {
     "name": "stdout",
     "output_type": "stream",
     "text": [
      "Compare list1 and list2\n",
      "True\n",
      "Compare list1 and list3\n",
      "False\n"
     ]
    }
   ],
   "source": [
    "#21. Write a python program to check whether two lists are circularly identical\n",
    "#Sample Output[8, 8, 12, 12, 8],[8, 8, 8, 12, 12],[1, 8, 8, 12, 12]\n",
    "#Compare List1 and List2 : True, Compare List1 and List3 : False\n",
    "\n",
    "list_1=[8, 8, 12, 12, 8]\n",
    "list_2=[8, 8, 8, 12, 12]\n",
    "list_3=[1, 8, 8, 12, 12]\n",
    "\n",
    "print('Compare list1 and list2')\n",
    "print(' '.join(map(str, list_2)) in ' '.join(map(str, list_1 * 2)))\n",
    "print('Compare list1 and list3')\n",
    "print(' '.join(map(str, list_3)) in ' '.join(map(str, list_1 * 2)))"
   ]
  },
  {
   "cell_type": "code",
   "execution_count": 8,
   "id": "302dcc85",
   "metadata": {},
   "outputs": [
    {
     "name": "stdout",
     "output_type": "stream",
     "text": [
      "4\n"
     ]
    }
   ],
   "source": [
    "##22. Write a Python program to find the second smallest number in a list\n",
    "#Sample Output: [2,4,56,78,4,34,5,8,9]\n",
    "#Second Smallest Number : 4\n",
    "\n",
    "\n",
    "import math\n",
    "\n",
    "My_list=[2,4,56,78,4,34,5,8,9]\n",
    "first = math.inf\n",
    "second = math.inf\n",
    "\n",
    "for i in range(0, len(My_list)):\n",
    "   if My_list[i] < first:\n",
    "     first = My_list[i]\n",
    "\n",
    "for i in range(0, len(My_list)):\n",
    "   if My_list[i] != first and My_list[i] < second:\n",
    "     second = My_list[i]\n",
    "\n",
    "print(second)"
   ]
  },
  {
   "cell_type": "code",
   "execution_count": 13,
   "id": "39474d78",
   "metadata": {},
   "outputs": [
    {
     "name": "stdout",
     "output_type": "stream",
     "text": [
      "Second largest element is: 82\n"
     ]
    }
   ],
   "source": [
    "# 23. Write a Python program to find the second largest number in a list\n",
    "#Sample Output: [82,4,56,78,4,34,5,100,9], Second Largest Number : 82\n",
    "\n",
    "\n",
    "mylist =[82,4,56,78,4,34,5,100,9]\n",
    "mylist.sort()\n",
    "     \n",
    "print(\"Second largest element is:\", mylist[-2])"
   ]
  },
  {
   "cell_type": "code",
   "execution_count": 14,
   "id": "0fcf7ec1",
   "metadata": {},
   "outputs": [
    {
     "name": "stdout",
     "output_type": "stream",
     "text": [
      "Original List :  [82, 4, 10, 56, 78, 4, 34, 5, 10, 9]\n",
      "List of unique numbers :  [34, 4, 5, 9, 10, 78, 82, 56]\n"
     ]
    }
   ],
   "source": [
    "##24. Write a Python program to get unique values from a list\n",
    "#Sample Output:[82, 4, 10, 56, 78, 4, 34, 5, 10, 9]\n",
    "#[34, 4, 5, 9, 10, 78, 82, 56]\n",
    "\n",
    "my_list = [82, 4, 10, 56, 78, 4, 34, 5, 10, 9]\n",
    "print(\"Original List : \",my_list)\n",
    "my_set = set(my_list)\n",
    "my_new_list = list(my_set)\n",
    "print(\"List of unique numbers : \",my_new_list)"
   ]
  },
  {
   "cell_type": "code",
   "execution_count": 15,
   "id": "7a3077e7",
   "metadata": {},
   "outputs": [
    {
     "name": "stdout",
     "output_type": "stream",
     "text": [
      "Original List :  [10, 10, 10, 10, 20, 20, 20, 20, 40, 40, 50, 50, 30]\n",
      "Frequency of the elements in the List :  Counter({10: 4, 20: 4, 40: 2, 50: 2, 30: 1})\n"
     ]
    }
   ],
   "source": [
    "##25. Write a Python program to get the frequency of the elements in a list.\n",
    "#Sample Output: [10, 30, 50, 10, 20, 60, 20, 60, 40, 40, 50, 50, 30]\n",
    "#Counter({50: 3, 10: 2, 30: 2, 20: 2, 60: 2, 40: 2})\n",
    "\n",
    "import collections\n",
    "my_list = [10,10,10,10,20,20,20,20,40,40,50,50,30]\n",
    "print(\"Original List : \",my_list)\n",
    "\n",
    "ctr = collections.Counter(my_list)\n",
    "print(\"Frequency of the elements in the List : \",ctr)"
   ]
  },
  {
   "cell_type": "code",
   "execution_count": 6,
   "id": "fa78400a",
   "metadata": {},
   "outputs": [
    {
     "name": "stdout",
     "output_type": "stream",
     "text": [
      "['T1', 'J1', 'T2', 'J2', 'T3', 'J3', 'T4', 'J4', 'T5', 'J5', 'T6', 'J6', 'T7', 'J7', 'T8', 'J8', 'T9', 'J9', 'T10', 'J10']\n"
     ]
    }
   ],
   "source": [
    "#26. Create a list by concatenating a given list which range goes from 1 to n\n",
    "# Sample Output:['T', 'J'],N = 10\n",
    "#['T1', 'J1', 'T2', 'J2', 'T3', 'J3', 'T4', 'J4', 'T5', 'J5', 'T6', 'J6', 'T7', 'J7', 'T8', 'J8', 'T9', 'J9', 'T10', 'J10}\n",
    "\n",
    "myrange_list = ['T', 'J']\n",
    "N = 10\n",
    "new_list = ['{}{}'.format(a, b) for b in range(1, N+1) for a in myrange_list]\n",
    "print(new_list)\n"
   ]
  },
  {
   "cell_type": "code",
   "execution_count": 12,
   "id": "7c732e45",
   "metadata": {},
   "outputs": [
    {
     "name": "stdout",
     "output_type": "stream",
     "text": [
      "7ffb17fd96c8\n",
      "18e9eebb970\n"
     ]
    }
   ],
   "source": [
    "#27. Write a Python program to get variable unique identification number or string\n",
    "# x = 30  , s = \"Tutor Joes\"\n",
    "\n",
    "x = 30\n",
    "print(format(id(x), 'x'))\n",
    "s = \"Tutor Joes\"\n",
    "print(format(id(s), 'x'))"
   ]
  },
  {
   "cell_type": "code",
   "execution_count": 13,
   "id": "14c7f29e",
   "metadata": {},
   "outputs": [
    {
     "name": "stdout",
     "output_type": "stream",
     "text": [
      "{89, 34, 67}\n"
     ]
    }
   ],
   "source": [
    "##28. Write a Python program to find common items from two lists\n",
    "##Sample Output: [23,45,67,78,89,34] ,[34,89,55,56,39,67]\n",
    "num1 = [23,45,67,78,89,34]\n",
    "num2 = [34,89,55,56,39,67]\n",
    "print(set(num1) & set(num2))\n"
   ]
  },
  {
   "cell_type": "code",
   "execution_count": 14,
   "id": "f0fa50ca",
   "metadata": {},
   "outputs": [
    {
     "name": "stdout",
     "output_type": "stream",
     "text": [
      "F\n",
      "Fox\n",
      "S\n",
      "Shark\n",
      "Snake\n",
      "b\n",
      "bear\n",
      "c\n",
      "cat\n",
      "cow\n",
      "d\n",
      "dog\n",
      "l\n",
      "lion\n",
      "m\n",
      "monkey\n",
      "mouse\n",
      "t\n",
      "tiger\n",
      "turtle\n"
     ]
    }
   ],
   "source": [
    "#29. Write a Python program to split a list based on first character of word\n",
    "#Sample Output : [\"cat\", \"dog\", \"cow\", \"tiger\", \"lion\", \"Fox\", \"Shark\", \"Snake\", \"turtle\", \"mouse\", \"monkey\", \"bear\"]\n",
    "\n",
    "from itertools import groupby\n",
    "from operator import itemgetter\n",
    " \n",
    "word_list = [\"cat\",\"dog\",\"cow\",\"tiger\",\"lion\",\"Fox\",\"Shark\",\"Snake\",\"turtle\",\"mouse\",\"monkey\",\"bear\"]\n",
    " \n",
    "for letter, words in groupby(sorted(word_list), key=itemgetter(0)):\n",
    "    print(letter)\n",
    "    for word in words:\n",
    "        print(word)"
   ]
  },
  {
   "cell_type": "code",
   "execution_count": 15,
   "id": "0740a207",
   "metadata": {},
   "outputs": [
    {
     "name": "stdout",
     "output_type": "stream",
     "text": [
      "[1, 3, 7, 5, 9, 7, 9]\n"
     ]
    }
   ],
   "source": [
    "#30. Write a Python program to select the odd number of a list\n",
    "#Sample Output: [1,2,4,3,6,7,5,8,9,7,8,9,10]\n",
    "#[1, 3, 7, 5, 9, 7, 9]\n",
    "\n",
    "a=[1,2,4,3,6,7,5,8,9,7,8,9,10]\n",
    "odd_num=[]\n",
    "for i in a:\n",
    "    if(i%2==1):\n",
    "        #print(i)\n",
    "        odd_num.append(i)\n",
    "print(odd_num)"
   ]
  },
  {
   "cell_type": "code",
   "execution_count": 16,
   "id": "1e7d8319",
   "metadata": {},
   "outputs": [
    {
     "name": "stdout",
     "output_type": "stream",
     "text": [
      "No of Unique Items in List : 6\n"
     ]
    }
   ],
   "source": [
    "##31. Write a Python Program to count unique values inside a list\n",
    "##Sample Output : [10, 20, 30, 50, 80, 70, 70, 80, 10] ,No of Unique Items in List : 6\n",
    "\n",
    "\n",
    "a = [10, 20, 30, 50, 80, 70, 70, 80, 10]\n",
    "s = set(a)\n",
    "print(\"No of Unique Items in List :\", len(s))\n"
   ]
  },
  {
   "cell_type": "code",
   "execution_count": 27,
   "id": "e588028e",
   "metadata": {},
   "outputs": [
    {
     "name": "stdout",
     "output_type": "stream",
     "text": [
      "Original list : [2, 1, 2, 4, 6, 4, 3, 2, 1]\n",
      "Removed duplicates : [1, 2, 3, 4, 6]\n",
      "Duplication removal list product : 144\n"
     ]
    }
   ],
   "source": [
    "#32. Write a Python Program to List product excluding duplicates\n",
    "#Sample Output: [2, 1, 2, 4, 6, 4, 3, 2, 1] ,Duplication removal list product : 144\n",
    "\n",
    "a = [2,1,2,4,6,4,3,2,1]\n",
    "print (\"Original list : \" + str(a))\n",
    " \n",
    "b=list(set(a))\n",
    "print (\"Removed duplicates : \" + str(b))\n",
    "p=1\n",
    "for i in b:\n",
    "    p*=i\n",
    " \n",
    "print (\"Duplication removal list product : \" + str(p))"
   ]
  },
  {
   "cell_type": "code",
   "execution_count": 35,
   "id": "bf105822",
   "metadata": {},
   "outputs": [
    {
     "name": "stdout",
     "output_type": "stream",
     "text": [
      "Original list : [4, 6, 4, 3, 3, 4, 3, 7, 8, 8]\n",
      "The Required Elements : [4, 3]\n"
     ]
    }
   ],
   "source": [
    "#33. Write a python Program to Extract elements with Frequency greater than K\n",
    "#Sample Output : [4, 6, 4, 3, 3, 4, 3, 7, 8, 8]\n",
    "\n",
    "a = [4, 6, 4, 3, 3, 4, 3, 7, 8, 8]\n",
    "print(\"Original list : \" + str(a))\n",
    "K = 2\n",
    " \n",
    "res = []\n",
    "for i in a:\n",
    "    freq = a.count(i)\n",
    "    if freq > K and i not in res:\n",
    "        res.append(i)\n",
    " \n",
    "print(\"The Required Elements : \" + str(res))\n"
   ]
  },
  {
   "cell_type": "code",
   "execution_count": 41,
   "id": "8af70ec0",
   "metadata": {},
   "outputs": [
    {
     "name": "stdout",
     "output_type": "stream",
     "text": [
      "Original list is : [4, 5, 6, 7, 3, 9]\n",
      "Does list contain all elements in range : True\n"
     ]
    }
   ],
   "source": [
    "#34. Write a Python Program to Test if List contains elements in Range\n",
    "#Sample Output:[4, 5, 6, 7, 3, 9]\n",
    "#Does list contain all elements in range : Tru\n",
    "\n",
    "\n",
    "a = [4, 5, 6, 7, 3, 9]\n",
    " \n",
    "print(\"Original list is : \" + str(a))\n",
    " \n",
    "i, j = 3, 10\n",
    " \n",
    "res = True\n",
    "for e in a:\n",
    "    if e < i or e >= j :\n",
    "        res = False\n",
    "        break\n",
    " \n",
    "print (\"Does list contain all elements in range : \" + str(res))"
   ]
  },
  {
   "cell_type": "code",
   "execution_count": 44,
   "id": "ab2db496",
   "metadata": {},
   "outputs": [
    {
     "name": "stdout",
     "output_type": "stream",
     "text": [
      "18\n",
      "9\n"
     ]
    }
   ],
   "source": [
    "##35. Write a Python program to check if the list contains three consecutive common numbers in Python\n",
    "#Sample Output: [18, 18, 18, 6, 3, 4, 9, 9, 9]\n",
    "#Three Consecutive common numbers = 18, 9\n",
    "\n",
    "a = [18, 18, 18, 6, 3, 4, 9, 9, 9]\n",
    "l = len(a)\n",
    "for i in range(l - 2):\n",
    "    if a[i] == a[i + 1] and a[i + 1] == a[i + 2]:\n",
    "        print(a[i])\n"
   ]
  },
  {
   "cell_type": "code",
   "execution_count": 45,
   "id": "f77d1202",
   "metadata": {},
   "outputs": [
    {
     "name": "stdout",
     "output_type": "stream",
     "text": [
      "20 30 30 30 400 "
     ]
    }
   ],
   "source": [
    "#36. Write a Python program to find the Strongest Neighbour\n",
    "#Sample Output:[10,20,30,20,30,400]\n",
    "#20 30 30 30 400\n",
    "\n",
    "n = 6\n",
    "a1 = [10,20,30,20,30,400]\n",
    "a2 = []\t\n",
    "for i in range(1, n):\n",
    "    r = max(a1[i], a1[i-1])\n",
    "    a2.append(r)\n",
    "for i in a2 :\n",
    "    print(i,end=\" \")"
   ]
  },
  {
   "cell_type": "code",
   "execution_count": 46,
   "id": "6a1804a7",
   "metadata": {},
   "outputs": [
    {
     "name": "stdout",
     "output_type": "stream",
     "text": [
      "1 2 3\n",
      "1 3 2\n",
      "2 1 3\n",
      "2 3 1\n",
      "3 1 2\n",
      "3 2 1\n"
     ]
    }
   ],
   "source": [
    "#37. Write a Python Program to print all Possible Combinations from the three Digits\n",
    "#Sample Output:[1, 2, 3]\n",
    "#1 2 3\n",
    "a = [1, 2, 3]\n",
    "for i in range(3):\n",
    "    for j in range(3):\n",
    "        for k in range(3):\n",
    "            if (i!=j and j!=k and k!=i):\n",
    "                print(a[i], a[j], a[k])\n"
   ]
  },
  {
   "cell_type": "code",
   "execution_count": 47,
   "id": "c5f7e518",
   "metadata": {},
   "outputs": [
    {
     "name": "stdout",
     "output_type": "stream",
     "text": [
      "Original List : ['Tutor Joes', ['Software', 'Computer'], ['Solution', 'Education']]\n",
      "\n",
      "Index Combinations : [['Tutor Joes', 'Software', 'Solution'], ['Tutor Joes', 'Computer', 'Education']]\n"
     ]
    }
   ],
   "source": [
    "#38. Write a Python program to find all the Combinations in the list with the given condition\n",
    "#Sample Output['Tutor Joes', ['Software', 'Computer'], ['Solution', 'Education']]\n",
    "#[ ['Tutor Joes', 'Software', 'Solution'], ['Tutor Joes', 'Computer', 'Education'] ]\n",
    "\n",
    "val = [\"Tutor Joes\",[\"Software\",\"Computer\"],[\"Solution\", \"Education\"]]\n",
    "print(\"Original List : \" + str(val))\n",
    "a = 2\n",
    "l = []\n",
    "c = 0\n",
    "while c <= a - 1:\n",
    "    t = []\n",
    "    for i in val:\n",
    "        if not isinstance(i, list):\n",
    "            t.append(i)\n",
    "        else:\n",
    "            t.append(i[c])\n",
    "    c += 1\n",
    "    l.append(t)\n",
    " \n",
    "print(\"\\nIndex Combinations : \" + str(l))\n"
   ]
  },
  {
   "cell_type": "code",
   "execution_count": 48,
   "id": "dc50dd78",
   "metadata": {},
   "outputs": [
    {
     "name": "stdout",
     "output_type": "stream",
     "text": [
      "[[('A', 1), ('B', 2), ('C', 3)], [('A', 1), ('C', 2), ('B', 3)], [('B', 1), ('A', 2), ('C', 3)], [('B', 1), ('C', 2), ('A', 3)], [('C', 1), ('A', 2), ('B', 3)], [('C', 1), ('B', 2), ('A', 3)]]\n"
     ]
    }
   ],
   "source": [
    "#39. Write a Python program to get all unique combinations of two Lists\n",
    "#Sample Output:['A','B','C'] ,[1,2,3]\n",
    "#[ [('A', 1), ('B', 2), ('C', 3)], [('A', 1), ('C', 2), ('B', 3)], [('B', 1), ('A', 2), ('C', 3)], [('B', 1), ('C', 2), ('A', 3)], \n",
    "#[('C', 1), ('A', 2), ('B', 3)], [('C', 1), ('B', 2), ('A', 3)] ]\n",
    "\n",
    "import itertools\n",
    "from itertools import permutations\n",
    "l1 = ['A','B','C']\n",
    "l2 = [1,2,3]\n",
    "unique = []\n",
    "permut = itertools.permutations(l1, len(l2))\n",
    "for comb in permut:\n",
    "    zipped = zip(comb, l2)\n",
    "    unique.append(list(zipped))\n",
    " \n",
    "print(unique)"
   ]
  },
  {
   "cell_type": "code",
   "execution_count": 49,
   "id": "4418ffe9",
   "metadata": {},
   "outputs": [
    {
     "name": "stdout",
     "output_type": "stream",
     "text": [
      "Original list : [1, 3, 4, 6, 5, 1]\n",
      "2\n",
      "Remove operation : [3, 4, 6, 5]\n"
     ]
    }
   ],
   "source": [
    "#40. Write a Python program to remove all the occurrences of an element from a list\n",
    "#Sample Output[1, 3, 4, 6, 5, 1],[3, 4, 6, 5]\n",
    "\n",
    "\n",
    "val = [1, 3, 4, 6, 5, 1]\n",
    "a = 1\n",
    "print (\"Original list :\" ,val)\n",
    "c = val.count(a)\n",
    "for i in range(c):\n",
    "    val.remove(a)\n",
    "print (\"Remove operation :\" , val)"
   ]
  },
  {
   "cell_type": "code",
   "execution_count": 50,
   "id": "efa6a2e9",
   "metadata": {},
   "outputs": [
    {
     "name": "stdout",
     "output_type": "stream",
     "text": [
      "Original List : [('A', 'B', 'C', 'D'), ('B', 'C', 'C', 'I'), ('H', 'D', 'B', 'C'), ('C', 'C', 'G', 'F')]\n",
      "After Removal :  [('A', 'B', 'C', 'D'), ('H', 'D', 'B', 'C')]\n"
     ]
    }
   ],
   "source": [
    "#41. Write a Python Program to Remove Consecutive K element records\n",
    "#Sample Output:[ ('A', 'B', 'C', 'D'), ('B', 'C', 'C', 'I'), ('H', 'D', 'B', 'C'), ('C', 'C', 'G', 'F') ]\n",
    "#[ ('A', 'B', 'C', 'D'), ('H', 'D', 'B', 'C') }\n",
    "\n",
    "val = [('A', 'B', 'C', 'D'), ('B', 'C', 'C', 'I'), ('H', 'D', 'B', 'C'), ('C', 'C', 'G', 'F')]\n",
    "print(\"Original List : \" + str(val))\n",
    "K = 'C'\n",
    "res = [i for i in val if not any(i[j] == K and i[j + 1] == K for j in range(len(i) - 1))]\n",
    " \n",
    "print(\"After Removal : \" , res)\n"
   ]
  },
  {
   "cell_type": "code",
   "execution_count": 51,
   "id": "ecba5455",
   "metadata": {},
   "outputs": [
    {
     "name": "stdout",
     "output_type": "stream",
     "text": [
      "List 1 :  ['Tutor Joes', 'Computer', 'Education']\n",
      "List 2 :  [2, 1, 0, 1, 0, 2, 2, 0, 1, 0, 1, 2]\n",
      "After Index Elements Replacements is :  ['Education', 'Computer', 'Tutor Joes', 'Computer', 'Tutor Joes', 'Education', 'Education', 'Tutor Joes', 'Computer', 'Tutor Joes', 'Computer', 'Education']\n"
     ]
    }
   ],
   "source": [
    "##42. Write a Python Program to Replace index elements with elements in Other List\n",
    "##Sample Output\n",
    "#['Tutor Joes', 'Computer', 'Education']\n",
    "#[2, 1, 0, 1, 0, 2, 2, 0, 1, 0, 1, 2]\n",
    "#['Education', 'Computer', 'Tutor Joes', 'Computer', 'Tutor Joes', 'Education', 'Education', 'Tutor Joes', 'Computer', 'Tutor Joes', 'Computer', 'Education']\n",
    "\n",
    "a = ['Tutor Joes', 'Computer', 'Education']\n",
    "b = [2 ,1 ,0 ,1 ,0 ,2 ,2 ,0 ,1 ,0 ,1 ,2]\n",
    "print(\"List 1 : \" , a)\n",
    "print(\"List 2 : \" , b)\n",
    "res = [a[i] for i in b]\n",
    " \n",
    "print (\"After Index Elements Replacements is : \" ,res)"
   ]
  },
  {
   "cell_type": "code",
   "execution_count": 52,
   "id": "e308bc42",
   "metadata": {},
   "outputs": [
    {
     "name": "stdout",
     "output_type": "stream",
     "text": [
      "[(4, 5, 6, 5, 4), (4, 5, 3), (5, 5, 2), (3, 4, 9)]\n",
      "[(4, 5, 6, 5, 4), (5, 5, 2)]\n"
     ]
    }
   ],
   "source": [
    "#43. Write a Python Program to Retain records with N occurrences of K\n",
    "#Sample Output :[ (4, 5, 6, 5, 4), (4, 5, 3), (5, 5, 2), (3, 4, 9) ]\n",
    "#K = 5\n",
    "#N = 2\n",
    "#[ (4, 5, 6, 5, 4), (5, 5, 2) ]\n",
    "\n",
    "val = [(4, 5, 6, 5, 4), (4, 5, 3), (5, 5, 2), (3, 4, 9)]\n",
    "print(val)\n",
    "K = 5\n",
    "N = 2\n",
    "res = [e for e in val if e.count(K) == N]\n",
    " \n",
    "print(res)\n"
   ]
  },
  {
   "cell_type": "code",
   "execution_count": 57,
   "id": "6ad0dc32",
   "metadata": {},
   "outputs": [
    {
     "name": "stdout",
     "output_type": "stream",
     "text": [
      "Before Swap : ['Tutor', 'joes', 'Computer', 'Education']\n",
      "After Swap :  ['Tutor', \"Joe's\", 'Software', 'Solutions']\n"
     ]
    }
   ],
   "source": [
    "#44. Write a Python Program to Swap elements in String list\n",
    "#Sample Output:['Tutor', 'joes', 'Computer', 'Education']\n",
    "#['Tutor', \"Joe's\", 'Software', 'Solutions']\n",
    "\n",
    "s = [\"Tutor\",\"joes\",\"Computer\",\"Education\"]\n",
    " \n",
    "print(\"Before Swap :\",s)\n",
    " \n",
    "res = [i.replace(\"joes\",\"Joe's\").replace(\"Computer\", \"Software\").replace(\"Education\", \"Solutions\") for i in s]\n",
    " \n",
    "print (\"After Swap : \",res)"
   ]
  },
  {
   "cell_type": "code",
   "execution_count": 60,
   "id": "64bd5eb9",
   "metadata": {},
   "outputs": [
    {
     "name": "stdout",
     "output_type": "stream",
     "text": [
      "Original list :  ['Tutor', 'joes', 'Computer', 'Education']\n",
      "Reversed list :  ['Education', 'Computer', 'joes', 'Tutor']\n"
     ]
    }
   ],
   "source": [
    "#45. Write a Python program to reverse All Strings in String List\n",
    "#Sample Output: \n",
    "#Original list = ['Tutor', 'joes', 'Computer', 'Education']\n",
    "#Reversed list = ['rotuT', 'seoj', 'retupmoC', 'noitacudE']\n",
    "#Reversed list = ['Education', 'Computer', 'joes', 'Tutor']\n",
    "\n",
    "val = [\"Tutor\",\"joes\",\"Computer\",\"Education\"]\n",
    "print (\"Original list : \", val)\n",
    "print(\"Reversed list : \" ,val[::-1])  # slice \n",
    "\n",
    "\n",
    "\n"
   ]
  },
  {
   "cell_type": "code",
   "execution_count": 61,
   "id": "07772b01",
   "metadata": {},
   "outputs": [
    {
     "name": "stdout",
     "output_type": "stream",
     "text": [
      "The original list is :  ['Tutor', 'joes', 'Computer', 'Education']\n",
      "Index of character at Kth position word : 3\n"
     ]
    }
   ],
   "source": [
    "#46. Write a Python program to find the character position of Kth word from a list of strings\n",
    "#Sample Output:['Tutor', 'joes', 'Computer', 'Education']\n",
    "#K = 20\n",
    "#Index of character at Kth position word: \n",
    "\n",
    "val = [\"Tutor\",\"joes\",\"Computer\",\"Education\"]\n",
    "print(\"The original list is : \" ,val)\n",
    "K = 20\n",
    "res = [i[0] for sub in enumerate(val) for i in enumerate(sub[1])]\n",
    "res = res[K]\n",
    "print(\"Index of character at Kth position word : \" + str(res))"
   ]
  },
  {
   "cell_type": "code",
   "execution_count": 62,
   "id": "bbfa7d95",
   "metadata": {},
   "outputs": [
    {
     "name": "stdout",
     "output_type": "stream",
     "text": [
      "Original List :  ['TjC', 'TjCpp', 'TjPython', 'Java']\n",
      "Strings count with matching frequency :  3\n"
     ]
    }
   ],
   "source": [
    "#47. Write a Python Program to Prefix frequency in string List\n",
    "#Sample Output: ['TjC', 'TjCpp', 'TjPython', 'Java']\n",
    "#Prefix = 'Tj'\n",
    "#Strings count with matching frequency : 3\n",
    "\n",
    "val = [\"TjC\",\"TjCpp\",\"TjPython\",\"Java\"]\n",
    "print(\"Original List : \",val)\n",
    "prefix = 'Tj'\n",
    "res = 0\n",
    "for i in val:\n",
    "    if i.startswith(prefix):\n",
    "        res = res + 1\n",
    "print (\"Strings count with matching frequency : \",res)\n",
    "\n"
   ]
  },
  {
   "cell_type": "code",
   "execution_count": 63,
   "id": "f3caf5ea",
   "metadata": {},
   "outputs": [
    {
     "name": "stdout",
     "output_type": "stream",
     "text": [
      "The original list is :  ['TjC', 'TjCpp', 'TjPython', 'Java', 'tj']\n",
      "Prefix Split List : [['TjC'], ['TjCpp'], ['TjPython', 'Java', 'tj']]\n"
     ]
    }
   ],
   "source": [
    "#48. Write a Python Program to Split Strings on Prefix Occurrence\n",
    "#Sample Output:\n",
    "#['TjC', 'TjCpp', 'TjPython', 'Java', 'tj']\n",
    "#Prefix = 'Tj'\n",
    "#[ ['TjC'], ['TjCpp'], ['TjPython', 'Java', 'tj'] \n",
    "\n",
    "l = [\"TjC\",\"TjCpp\",\"TjPython\",\"Java\",\"tj\"]\n",
    "print(\"The original list is : \",l)\n",
    "Prefix = \"Tj\"\n",
    " \n",
    "res = []\n",
    "for val in l:\n",
    "    if val.startswith(Prefix):\n",
    "        res.append([val])\n",
    "    else:\n",
    "        res[-1].append(val)\n",
    "print(\"Prefix Split List : \" + str(res))"
   ]
  },
  {
   "cell_type": "code",
   "execution_count": 64,
   "id": "15204314",
   "metadata": {},
   "outputs": [
    {
     "name": "stdout",
     "output_type": "stream",
     "text": [
      "The original list : ['P', 'Y', 'T', 'H', 'O', 'N']\n",
      "List after replacement : ['@', '@', 'T', '@', '@', '@']\n"
     ]
    }
   ],
   "source": [
    "#49. Write a Python program to Replace all Characters of a List Except the given character\n",
    "#Sample Output: ['P', 'Y', 'T', 'H', 'O', 'N'],['@', '@', 'T', '@', '@', '@']\n",
    "val = ['P', 'Y', 'T', 'H', 'O', 'N']\n",
    "print(\"The original list : \" + str(val))\n",
    " \n",
    "res = [i if i == 'T' else '@' for i in val]\n",
    "print(\"List after replacement : \" + str(res))"
   ]
  },
  {
   "cell_type": "code",
   "execution_count": 65,
   "id": "dc7b4562",
   "metadata": {},
   "outputs": [
    {
     "name": "stdout",
     "output_type": "stream",
     "text": [
      "Original list :  ['TutorJoes', 'ComputerEducations']\n",
      "The space added list of strings :  [' Tutor Joes', ' Computer Educations']\n"
     ]
    }
   ],
   "source": [
    "#50. Write a Python Program to Add Space between Potential Words\n",
    "#Sample Output\n",
    "#['TutorJoes', 'ComputerEducations']\n",
    "#[' Tutor Joes', ' Computer Educations'\n",
    "\n",
    "val = [\"TutorJoes\", \"ComputerEducations\"]\n",
    "print(\"Original list : \" ,val)\n",
    " \n",
    "res = []\n",
    "for i in val:\n",
    "    t = [[]]\n",
    "    for ch in i:\n",
    "        if ch.isupper():\n",
    "            t.append([])\n",
    "        t[-1].append(ch)\n",
    "    res.append(' '.join(''.join(i) for i in t))\n",
    " \n",
    "print(\"The space added list of strings : \" , res)"
   ]
  },
  {
   "cell_type": "code",
   "execution_count": null,
   "id": "914a5f6b",
   "metadata": {},
   "outputs": [],
   "source": []
  }
 ],
 "metadata": {
  "kernelspec": {
   "display_name": "Python 3 (ipykernel)",
   "language": "python",
   "name": "python3"
  },
  "language_info": {
   "codemirror_mode": {
    "name": "ipython",
    "version": 3
   },
   "file_extension": ".py",
   "mimetype": "text/x-python",
   "name": "python",
   "nbconvert_exporter": "python",
   "pygments_lexer": "ipython3",
   "version": "3.11.4"
  }
 },
 "nbformat": 4,
 "nbformat_minor": 5
}

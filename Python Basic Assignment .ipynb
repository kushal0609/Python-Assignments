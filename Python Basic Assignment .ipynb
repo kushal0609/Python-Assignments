{
 "cells": [
  {
   "cell_type": "code",
   "execution_count": 24,
   "id": "53a05904",
   "metadata": {},
   "outputs": [
    {
     "name": "stdout",
     "output_type": "stream",
     "text": [
      "Hi ,My Name is Kushal\n"
     ]
    }
   ],
   "source": [
    "#1 Simple Message: Store a message in a variable, and then print that message.\n",
    "\n",
    "msg=\"Hi ,My Name is Kushal\"\n",
    "print(msg)"
   ]
  },
  {
   "cell_type": "code",
   "execution_count": 25,
   "id": "2efd83ba",
   "metadata": {},
   "outputs": [
    {
     "name": "stdout",
     "output_type": "stream",
     "text": [
      "Hi ,My Name is Kushal\n",
      "I am learning Python\n"
     ]
    }
   ],
   "source": [
    "#2 Store a message in a variable and print that message. \n",
    "#Then change the value of your variable to a new message and print the new message.\n",
    "\n",
    "msg=\"Hi ,My Name is Kushal\"\n",
    "print(msg)\n",
    "msg=\"I am learning Python\"\n",
    "print(msg)"
   ]
  },
  {
   "cell_type": "code",
   "execution_count": 26,
   "id": "658c2674",
   "metadata": {},
   "outputs": [
    {
     "name": "stdout",
     "output_type": "stream",
     "text": [
      "Hello Kushal Kumar,would you like to learn Python today?\n"
     ]
    }
   ],
   "source": [
    "#3 Store a person’s name in a variable and print a message to that person. \n",
    "#Your message should be simple, such as, “Hello Eric, would you like to learn some Python today?”\n",
    "\n",
    "Name=\"Kushal Kumar\"\n",
    "msg=\"Hello \"+ Name +\",would you like to learn Python today?\"\n",
    "print(msg)"
   ]
  },
  {
   "cell_type": "code",
   "execution_count": 38,
   "id": "7cc3248d",
   "metadata": {},
   "outputs": [
    {
     "name": "stdout",
     "output_type": "stream",
     "text": [
      "\"Albert Einstien once said,\n",
      "person who never made a mistake never tried anything new.\"\n"
     ]
    }
   ],
   "source": [
    "#4. Find a quote from a famous person you admire. Print the quote and the name of its author. \n",
    "#Your output should look something like the following, including the quotation marks:\n",
    "##Albert Einstein once said, “A person who never made a mistake never tried anything new.”\n",
    "\n",
    "print('\"Albert Einstien once said,')\n",
    "print('person who never made a mistake never tried anything new.\"')\n"
   ]
  },
  {
   "cell_type": "code",
   "execution_count": 46,
   "id": "586a0605",
   "metadata": {},
   "outputs": [
    {
     "name": "stdout",
     "output_type": "stream",
     "text": [
      " Albert Einstien once said,“A person who never made a mistake never tried anything new.”\n"
     ]
    }
   ],
   "source": [
    "#5.Repeat Exercise 4, but this time store the famous person’s name in a variable called famous_person. \n",
    "#Then compose your message and store it in a new variable called message. Print your message\n",
    "\n",
    "famous_person=\"Albert Einstien\"\n",
    "msg= \" \" + famous_person + \" once said,“A person who never made a mistake never tried anything new.”\"\n",
    "print(msg)"
   ]
  },
  {
   "cell_type": "code",
   "execution_count": 50,
   "id": "5fd566a1",
   "metadata": {},
   "outputs": [
    {
     "name": "stdout",
     "output_type": "stream",
     "text": [
      "8\n",
      "8\n",
      "8\n",
      "8\n"
     ]
    }
   ],
   "source": [
    "#6. Write addition, subtraction, multiplication, and division operations that each result in the number 8. \n",
    "#Be sure to enclose your operations in print statements to see the results. \n",
    "#You should create four lines that look like this: print (5 + 3)\n",
    "\n",
    "print(5+3)\n",
    "print(11-3)\n",
    "print(2*4)\n",
    "print(16/2)"
   ]
  },
  {
   "cell_type": "code",
   "execution_count": 60,
   "id": "95b61cec",
   "metadata": {},
   "outputs": [
    {
     "name": "stdout",
     "output_type": "stream",
     "text": [
      "My favourit number is 20  \n"
     ]
    }
   ],
   "source": [
    "#7.Store your favourite number in a variable. Then, using that variable, create a message that reveals your favourite number. \n",
    "#Print that message\n",
    "favourite_num = 20\n",
    "msg=\"My favourit number is \" + str(favourite_num) + \"  \"\n",
    "print(msg)\n"
   ]
  },
  {
   "cell_type": "code",
   "execution_count": 61,
   "id": "5a811660",
   "metadata": {},
   "outputs": [
    {
     "data": {
      "text/plain": [
       "123"
      ]
     },
     "execution_count": 61,
     "metadata": {},
     "output_type": "execute_result"
    }
   ],
   "source": [
    "#8. Choose two of the programs you’ve written and add at least one comment to each. \n",
    "#If you don’t have anything specific to write because your programs are too simple at this point, \n",
    "#just add your name and the current date at the top of each program file.\n",
    "#Then write one sentence describing what the program does.\n",
    "\n",
    "123\n"
   ]
  },
  {
   "cell_type": "code",
   "execution_count": 62,
   "id": "a44e4394",
   "metadata": {},
   "outputs": [
    {
     "name": "stdout",
     "output_type": "stream",
     "text": [
      "Sonu\n",
      "Uday\n",
      "Chintu\n",
      "Dravid\n",
      "Umesh\n"
     ]
    }
   ],
   "source": [
    "#9. Store the names of a few of your friends in a list called names. \n",
    "#Print each person’s name by accessing each element in the list, one at a time\n",
    "\n",
    "# list of friend names\n",
    "names = [\"Sonu\", \"Uday\", \"Chintu\", \"Dravid\", \"Umesh\"]\n",
    "\n",
    "# Print each person's name by accessing each element in the list,one at a time\n",
    "for name in names:\n",
    "    print(name)"
   ]
  },
  {
   "cell_type": "code",
   "execution_count": 65,
   "id": "e08fbaec",
   "metadata": {},
   "outputs": [
    {
     "name": "stdout",
     "output_type": "stream",
     "text": [
      "Sonu\n",
      "Uday\n",
      "Chintu\n",
      "Dravid\n",
      "Umesh\n"
     ]
    }
   ],
   "source": [
    "#9. list of friend names\n",
    "names = [\"Sonu\", \"Uday\", \"Chintu\", \"Dravid\", \"Umesh\"]\n",
    "# Print each person's name by accessing each element in the list,one at a time\n",
    "print(names[0])\n",
    "print(names[1])\n",
    "print(names[2])\n",
    "print(names[3])\n",
    "print(names[4])"
   ]
  },
  {
   "cell_type": "code",
   "execution_count": 93,
   "id": "6263820b",
   "metadata": {},
   "outputs": [
    {
     "name": "stdout",
     "output_type": "stream",
     "text": [
      "Hi, Sonu!, I hope you're having a great day\n",
      "Hi, Uday!, I hope you're having a great day\n",
      "Hi, Chintu!, I hope you're having a great day\n",
      "Hi, Dravid!, I hope you're having a great day\n",
      "Hi, Umesh!, I hope you're having a great day\n"
     ]
    }
   ],
   "source": [
    "#10.Start with the list you used in Exercise 9, but instead of just printing each person’s name, print a message to them. \n",
    "#The text of each message should be the same, but each message should be personalized with the person’sname\n",
    "names = [\"Sonu\", \"Uday\", \"Chintu\", \"Dravid\", \"Umesh\"]\n",
    "msg = \"Hi, {}!, I hope you're having a great day\"\n",
    "for name in names:\n",
    "    print(msg.format(name))\n",
    "\n"
   ]
  },
  {
   "cell_type": "code",
   "execution_count": 79,
   "id": "10a6cb26",
   "metadata": {},
   "outputs": [
    {
     "name": "stdout",
     "output_type": "stream",
     "text": [
      "I would like to own a Honda bike.\n",
      "I would like to own a Ather bike.\n",
      "I would like to own a Ola bike.\n",
      "I would like to own a Yamaha bike.\n",
      "I would like to own a Suzuki bike.\n"
     ]
    }
   ],
   "source": [
    "#11.Think of your favourite mode of transportation, such as a motorcycle or a car,and make a list that stores several examples. \n",
    "#Use your list to print a series of statements about these items, such as “I would like to own a Honda motorcycle.”\n",
    "\n",
    "motorcycles = [\"Honda\", \"Ather\", \"Ola\", \"Yamaha\", \"Suzuki\"]\n",
    "\n",
    "for Brand in motorcycles:\n",
    "    print(\"I would like to own a\",Brand,\"bike.\")"
   ]
  },
  {
   "cell_type": "code",
   "execution_count": null,
   "id": "66ebeb28",
   "metadata": {},
   "outputs": [],
   "source": []
  }
 ],
 "metadata": {
  "kernelspec": {
   "display_name": "Python 3 (ipykernel)",
   "language": "python",
   "name": "python3"
  },
  "language_info": {
   "codemirror_mode": {
    "name": "ipython",
    "version": 3
   },
   "file_extension": ".py",
   "mimetype": "text/x-python",
   "name": "python",
   "nbconvert_exporter": "python",
   "pygments_lexer": "ipython3",
   "version": "3.11.4"
  }
 },
 "nbformat": 4,
 "nbformat_minor": 5
}

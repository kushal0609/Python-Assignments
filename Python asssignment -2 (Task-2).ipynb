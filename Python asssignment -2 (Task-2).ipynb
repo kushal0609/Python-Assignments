{
 "cells": [
  {
   "cell_type": "code",
   "execution_count": 2,
   "id": "b8d09eaa",
   "metadata": {},
   "outputs": [
    {
     "name": "stdout",
     "output_type": "stream",
     "text": [
      "Enter the Quantity Purchased :20\n",
      "Enter the Amount Per Item :40\n",
      "Total Expenses is : 720.0\n"
     ]
    }
   ],
   "source": [
    "# 1. While purchasing certain items, a discount of 10% is offered if the quantity purchased is more than 10.\n",
    "# If quantity and price per item are input through the keyboard, write a program to calculate the total expenses.\n",
    "\n",
    "qty = int(input(\"Enter the Quantity Purchased :\"))\n",
    "amt = float(input(\"Enter the Amount Per Item :\"))\n",
    "if(qty>10):\n",
    "    total = qty * amt; \n",
    "    total = total- (total * 0.1)\n",
    "else:\n",
    "    total = qty * amt\n",
    " \n",
    "print(\"Total Expenses is :\",total)\n"
   ]
  },
  {
   "cell_type": "code",
   "execution_count": 3,
   "id": "45f5b8c4",
   "metadata": {},
   "outputs": [
    {
     "name": "stdout",
     "output_type": "stream",
     "text": [
      "Enter the Current Year :2023\n",
      "Enter the Year of Joining :2018\n",
      "Bonus of Rs : 2500 /-\n"
     ]
    }
   ],
   "source": [
    "#2. The current year and the year in which the employee joined the organization are entered through the keyboard. \n",
    "#If the number of years for which the employee has served the organization is greater than 3 then a bonus of Rs. 2500/- is given to the employee.\n",
    "#If the years of service are not greater than 3, then the program should do nothing.\n",
    "\n",
    "current_year=int(input(\"Enter the Current Year :\"))\n",
    "join_year=int(input(\"Enter the Year of Joining :\"))\n",
    "diff=current_year-join_year\n",
    "if(diff>3):\n",
    "\tprint(\"Bonus of Rs : 2500 /-\");\n",
    "else:\n",
    "\tprint(\"No Bonus..\")"
   ]
  },
  {
   "cell_type": "code",
   "execution_count": 4,
   "id": "e6047544",
   "metadata": {},
   "outputs": [
    {
     "name": "stdout",
     "output_type": "stream",
     "text": [
      "Enter the Basic Salary :1400\n",
      "Gross Salary Rs : 2800.0\n"
     ]
    }
   ],
   "source": [
    "#3. If his basic salary is less than Rs. 1500, then HRA = 10% of basic salary and DA = 90% of basic salary. \n",
    "#If his salary is either equal to or above Rs. 1500, then HRA = Rs. 500 and DA = 98% of basic salary. \n",
    "#If the employee's salary is input through the keyboard write a program to find his gross salary\n",
    "\n",
    "bs = float(input(\"Enter the Basic Salary :\"))\n",
    "if(bs<1500):\n",
    "    hra=bs*0.1\n",
    "    da=bs*0.9\n",
    "else:\n",
    "    hra=500\n",
    "    da=bs*0.98\n",
    " \n",
    "gs=bs + hra + da\n",
    "print(\"Gross Salary Rs :\", gs)"
   ]
  },
  {
   "cell_type": "code",
   "execution_count": 6,
   "id": "ba22f9f4",
   "metadata": {},
   "outputs": [
    {
     "name": "stdout",
     "output_type": "stream",
     "text": [
      "Enter the Mark Subject 1 :20\n",
      "Enter the Mark Subject 2 :30\n",
      "Enter the Mark Subject 3 :40\n",
      "Enter the Mark Subject 4 :50\n",
      "Enter the Mark Subject 5 :60\n",
      "Total : 200\n",
      "Percentage : 40.0\n",
      "Third Division\n"
     ]
    }
   ],
   "source": [
    "#4. The marks obtained by a student in 5 different subjects are input through the keyboard. \n",
    "#The student gets a division as per the following rules: Write a program to calculate the division obtained by the student.\n",
    "#a. Percentage above or equal to 60 - First division\n",
    "#b. Percentage between 50 and 59 - Second division\n",
    "#c. Percentage between 40 and 49 - Third division\n",
    "#d. Percentage less than 40 – Fail\n",
    "\n",
    "m1=int(input(\"Enter the Mark Subject 1 :\"))\n",
    "m2=int(input(\"Enter the Mark Subject 2 :\"))\n",
    "m3=int(input(\"Enter the Mark Subject 3 :\"))\n",
    "m4=int(input(\"Enter the Mark Subject 4 :\"))\n",
    "m5=int(input(\"Enter the Mark Subject 5 :\"))\n",
    "total=m1+m2+m3+m4+m5\n",
    "per=total/5\n",
    "print(\"Total :\",total)\n",
    "print(\"Percentage :\",per)\n",
    "if(per>=60):\n",
    "    print(\"First Division\")\n",
    "elif(per>=50 and per<=59):\n",
    "    print(\"Second Division\")\n",
    "elif(per>=40 and per<=49):\n",
    "    print(\"Third Division\")\n",
    "else:\n",
    "    print(\"Fail\")"
   ]
  },
  {
   "cell_type": "code",
   "execution_count": 11,
   "id": "2b1b0882",
   "metadata": {},
   "outputs": [
    {
     "name": "stdout",
     "output_type": "stream",
     "text": [
      "Enter the Age :24\n",
      "Enter the Gender M/F :F\n",
      "Enter the Marital Status u/m :U\n",
      "Driver should not be Insured\n"
     ]
    }
   ],
   "source": [
    "#5. A company insures its drivers in the following cases:\n",
    "#a. If the driver is married.\n",
    "#b. If the driver is unmarried, male & above 30 years of age.\n",
    "#c. If the driver is unmarried, female & above 25 years of age\n",
    "\n",
    "age = int(input(\"Enter the Age :\"))\n",
    "sex = input(\"Enter the Gender M/F :\")\n",
    "status = input(\"Enter the Marital Status u/m :\")\n",
    "if ( ( status == 'M') or ( status == 'U' and sex == 'M' and age > 30 ) or( status == 'U' and sex == 'F' and age > 25 ) ):\n",
    "    print( \"Driver should be Insured\" )\n",
    "else:\n",
    "    print( \"Driver should not be Insured\" )"
   ]
  },
  {
   "cell_type": "code",
   "execution_count": 14,
   "id": "6d2929e4",
   "metadata": {},
   "outputs": [
    {
     "name": "stdout",
     "output_type": "stream",
     "text": [
      "Enter the Gender f/m :f\n",
      "Enter the Years of Service :5\n",
      "Enter the Qualification (Graduate(0) , Post-Graduate(1)) :1\n",
      "Salary :  10000\n"
     ]
    }
   ],
   "source": [
    "#6. Write a program to calculate the salary as per the following table\n",
    "\n",
    "gen = input(\"Enter the Gender f/m :\")\n",
    "yos = int(input(\"Enter the Years of Service :\"))\n",
    "qual = int(input(\"Enter the Qualification (Graduate(0) , Post-Graduate(1)) :\"))\n",
    "if(gen=='m' and yos>=10 and qual==1):\n",
    "    salary = 15000\n",
    "    print(\"Salary : \" , salary)\n",
    "elif( (gen=='m' and yos>=10 and qual==0) or ( gen=='m' and yos<10 and qual==1 ) or ( gen=='f' and yos<10 and qual==1)):\n",
    "    salary = 10000\n",
    "    print(\"Salary : \" , salary)\n",
    "elif( gen=='m' and yos<10 and qual==0):\n",
    "    salary = 7000\n",
    "    print(\"Salary : \" , salary)\n",
    "elif( gen=='f' and yos>=10 and qual==1):\n",
    "    salary = 12000\n",
    "    print(\"Salary : \" , salary)\n",
    "elif( gen=='f' and yos>=10 and qual==0):\n",
    "    salary = 9000\n",
    "    print(\"Salary : \" , salary)\n",
    "elif( gen=='f' and yos<10 and qual==0):\n",
    "    salary = 6000\n",
    "    print(\"Salary : \" , salary)"
   ]
  },
  {
   "cell_type": "code",
   "execution_count": 17,
   "id": "833adcd1",
   "metadata": {},
   "outputs": [
    {
     "name": "stdout",
     "output_type": "stream",
     "text": [
      "Enter the cost Price of an Item :200\n",
      "Enter the Selling Price of an Item :200\n",
      "No Profit No Loss\n"
     ]
    }
   ],
   "source": [
    "#7. If cost price and selling price of an item is input through the keyboard, \n",
    "#write a program to determine whether the seller has made profit or incurred loss.\n",
    "#Also determine how much profit he made or loss he incurred.\n",
    "\n",
    "cost_price=float(input(\"Enter the cost Price of an Item :\"))\n",
    "selling_price=float(input(\"Enter the Selling Price of an Item :\"))\n",
    "if (selling_price > cost_price):\n",
    "    profit = selling_price - cost_price\n",
    "    print(\"Profit :\",profit)\n",
    "elif( cost_price > selling_price):\n",
    "    loss = cost_price - selling_price\n",
    "    print(\"Loss :\",loss)\n",
    "else:\n",
    "    print(\"No Profit No Loss\")"
   ]
  },
  {
   "cell_type": "code",
   "execution_count": 21,
   "id": "8d5bb4ce",
   "metadata": {},
   "outputs": [
    {
     "name": "stdout",
     "output_type": "stream",
     "text": [
      "Enter the Number :3\n",
      "3 is Odd Number\n"
     ]
    }
   ],
   "source": [
    "#8. Any integer is input through the keyboard. Write a program to find out whether it is an \n",
    "#odd number or even number. (Hint: Use the % (modulus) operator)\n",
    "\n",
    "num = int(input(\"Enter the Number :\"))\n",
    "if(num%2==0):\n",
    "    print(num,\"is Even Number\")\n",
    "else:\n",
    "    print(num,\"is Odd Number\")\n",
    "    "
   ]
  },
  {
   "cell_type": "code",
   "execution_count": 22,
   "id": "8b882a74",
   "metadata": {},
   "outputs": [
    {
     "name": "stdout",
     "output_type": "stream",
     "text": [
      "Enter the Number :54321\n",
      "Not Equal\n"
     ]
    }
   ],
   "source": [
    "#9. A five-digit number is entered through the keyboard. Write a program to obtain the reversed number \n",
    "#and to determine whether the original and reversed numbers are equal or not.\n",
    "\n",
    "num = int(input(\"Enter the Number :\"))\n",
    "a=num\n",
    "sum=0\n",
    "while(num>0):\n",
    "    rem=num%10\n",
    "    sum=(sum*10)+rem\n",
    "    num=num//10\n",
    "if(a==sum):\n",
    "    print(\"Equal\")\n",
    "else:\n",
    "    print(\"Not Equal\")"
   ]
  },
  {
   "cell_type": "code",
   "execution_count": 24,
   "id": "92905286",
   "metadata": {},
   "outputs": [
    {
     "name": "stdout",
     "output_type": "stream",
     "text": [
      "Enter the Age of Ram :40\n",
      "Enter the Age of Shyam :30\n",
      "Enter the Age of Ajay :20\n",
      "The Youngest Age is Ajay\n"
     ]
    }
   ],
   "source": [
    "#10. If the ages of Ram, Shyam and Ajay are input through the keyboard, \n",
    "#write a program to determine the youngest of the three\n",
    "\n",
    "age1 = int(input(\"Enter the Age of Ram :\"))\n",
    "age2 = int(input(\"Enter the Age of Shyam :\"))\n",
    "age3 = int(input(\"Enter the Age of Ajay :\"))\n",
    "if(age1<age2 and age1<age3):\n",
    "    print(\"The Youngest Age is Ram\")\n",
    "elif(age2<age1 and age2<age3):\n",
    "    print(\"The Youngest Age is Shyam\")\n",
    "else:\n",
    "    print(\"The Youngest Age is Ajay\")"
   ]
  },
  {
   "cell_type": "code",
   "execution_count": 26,
   "id": "b0bfa4e3",
   "metadata": {},
   "outputs": [
    {
     "name": "stdout",
     "output_type": "stream",
     "text": [
      "Enter the Triangle Side-1 :50\n",
      "Enter the Triangle Side-2 :50\n",
      "Enter the Triangle Side-3 :50\n",
      "Triangle Not Valid..\n"
     ]
    }
   ],
   "source": [
    "#11. Write a program to check whether a triangle is valid or not, \n",
    "#when the three angles of the triangle are entered through the keyboard.\n",
    "#A triangle is valid if the sum of all the three angles is equal to 180 degrees.\n",
    "\n",
    "s1 = int(input(\"Enter the Triangle Side-1 :\"))\n",
    "s2 = int(input(\"Enter the Triangle Side-2 :\"))\n",
    "s3 = int(input(\"Enter the Triangle Side-3 :\"))\n",
    "sum = s1+s2+s3\n",
    "if(sum==180):\n",
    "    print(\"Triangle Valid..\")\n",
    "else:\n",
    "    print(\"Triangle Not Valid..\")"
   ]
  },
  {
   "cell_type": "code",
   "execution_count": 29,
   "id": "806ac17e",
   "metadata": {},
   "outputs": [
    {
     "name": "stdout",
     "output_type": "stream",
     "text": [
      "Enter the Number :-25\n",
      "Absolute Number : 25\n"
     ]
    }
   ],
   "source": [
    "#12. Find the absolute value of a number entered through the keyboard.\n",
    "num = int(input(\"Enter the Number :\"))\n",
    "print(\"Absolute Number :\",abs(num))\n",
    "\n",
    " "
   ]
  },
  {
   "cell_type": "code",
   "execution_count": 31,
   "id": "63211e98",
   "metadata": {},
   "outputs": [
    {
     "name": "stdout",
     "output_type": "stream",
     "text": [
      "Enter the Length : 5\n",
      "Enter the Breadth : 4\n",
      "Area of Rectangle : 20.0\n",
      "Perimeter of Rectangle : 18.0\n",
      "Area of rectangle is greater than  Perimeter\n"
     ]
    }
   ],
   "source": [
    "#13. Given the length and breadth of a rectangle, write a program to find whether the area of the rectangle is greater than its perimeter. \n",
    "#For example, the area of the rectangle with length = 5 and breadth = 4 is greater than its perimeter\n",
    "\n",
    "len = float(input(\"Enter the Length : \"))\n",
    "bre = float(input(\"Enter the Breadth : \"))\n",
    "area = len * bre;\n",
    "perimeter = 2 * (len+bre)\n",
    "print(\"Area of Rectangle :\", area)\n",
    "print(\"Perimeter of Rectangle :\", perimeter)\n",
    "if (area>perimeter):\n",
    "    print(\"Area of rectangle is greater than  Perimeter\")\n",
    "else:\n",
    "    print(\"Perimeter of rectangle is greater than Area\")"
   ]
  },
  {
   "cell_type": "code",
   "execution_count": 34,
   "id": "7b9b7d0a",
   "metadata": {},
   "outputs": [
    {
     "name": "stdout",
     "output_type": "stream",
     "text": [
      "Enter the Year :2011\n",
      "Given Year is not a leap Year\n"
     ]
    }
   ],
   "source": [
    "#14. Any year is entered through the keyboard, write a program to determine whether the year is leap or not. \n",
    "#Use the logical operators && and ||.\n",
    "\n",
    "year = int(input(\"Enter the Year :\")) \n",
    "if (year%4 == 0 and year%100 != 0) or (year%400 == 0):\n",
    "    print(\"Given Year is a leap Year\")\n",
    "else:  \n",
    "    print (\"Given Year is not a leap Year\")"
   ]
  },
  {
   "cell_type": "code",
   "execution_count": 35,
   "id": "a6b89114",
   "metadata": {},
   "outputs": [
    {
     "name": "stdout",
     "output_type": "stream",
     "text": [
      "Enter the value of Hardness : 20\n",
      "Enter the value of Carbon Content: 23\n",
      "Enter the value of Tensile Strength: 25\n",
      "The Grade of Steel  : 5\n"
     ]
    }
   ],
   "source": [
    "#15. A certain grade of steel is graded according to the following conditions:\n",
    "#i. Hardness must be greater than 50\n",
    "#ii. Carbon content must be less than 0.7\n",
    "#iii. Tensile strength must be greater than 5600\n",
    "\n",
    "hs_f=0\n",
    "cc_f=0\n",
    "ts_f=0\n",
    "hs = float(input(\"Enter the value of Hardness : \"))\n",
    "cc = float(input(\"Enter the value of Carbon Content: \"))\n",
    "ts = float(input(\"Enter the value of Tensile Strength: \"))\n",
    "if (hs>50):\n",
    "\ths_f=1\n",
    "if (cc<0.7):\n",
    "\tcc_f=1\n",
    "if (ts>5600):\n",
    "\tts_f=1\n",
    "if(hs_f==0 and cc_f==0 and ts_f==0):\n",
    "\tgrade = 5\n",
    "elif(hs_f==1 or cc_f==1 or ts==1):\n",
    "\tgrade = 6\n",
    "elif(hs_f==1 and cc_f==0 and ts_f==1):\n",
    "\tgrade = 7\n",
    "elif(hs_f==0 and cc_f==1 and ts_f==1):\n",
    "\tgrade = 8\n",
    "elif(hs_f==1 and cc_f==1 and ts_f==0):\n",
    "\tgrade = 9\n",
    "#elif(hs_f==1 and cc_f==1 and ts_f==1):\n",
    "else:\n",
    "\tgrade = 10\n",
    " \n",
    "print(\"The Grade of Steel  :\", grade)"
   ]
  },
  {
   "cell_type": "code",
   "execution_count": 37,
   "id": "232a6671",
   "metadata": {},
   "outputs": [
    {
     "name": "stdout",
     "output_type": "stream",
     "text": [
      "Enter the Number of Days :10\n",
      "Fine Amount Pay to Rs : 10\n"
     ]
    }
   ],
   "source": [
    "#16. A library charges a fine for every book returned late. For first 5 days the fine is 50 paise,\n",
    "#for 6-10 days fine is one rupee and above 10 days fine is 5 rupees. If you return the book after 30 days your membership will be cancelled. \n",
    "#Write a program to accept the number of days the member is late to return the book and display the fine or the appropriate message\n",
    "\n",
    "\n",
    "days = int(input(\"Enter the Number of Days :\"))\n",
    "if (days>0 and days<= 5):\n",
    "    amt = 0.50 * days\n",
    "    print(\"Fine Amount Pay to Rs :\", amt)\n",
    " \n",
    "elif(days >= 6 and days <= 10):\n",
    "    amt = 1 * days\n",
    "    print(\"Fine Amount Pay to Rs :\", amt)\n",
    " \n",
    "elif (days > 10):\n",
    "    amt = 5 * days\n",
    "    print(\"Fine Amount Pay to Rs :\", amt)\n",
    "    if (days > 30):\n",
    "        print(\"Your Membership would be Cancelled..\")\n",
    "else:\n",
    "    print(\"Invalid\")"
   ]
  },
  {
   "cell_type": "code",
   "execution_count": 40,
   "id": "cc7a4052",
   "metadata": {},
   "outputs": [
    {
     "name": "stdout",
     "output_type": "stream",
     "text": [
      "Enter the Time Taken by Worker : 6\n",
      "Worker is Leave the Company..\n"
     ]
    }
   ],
   "source": [
    "#17. In a company, worker efficiency is determined on the basis of the time required for a worker to complete a particular job. \n",
    "#If the time taken by the worker is between 2 – 3 hours, then the worker is said to be highly efficient. \n",
    "#If the time required by the worker is between 3 – 4 hours, then the worker is ordered to improve speed. \n",
    "#If the time taken is between 4 – 5 hours, the worker is given training to improve his speed, \n",
    "#and if the time taken by the worker is more than 5 hours, then the worker has to leave the company.\n",
    "#If the time taken by the worker is input through the keyboard, find the efficiency of the worker.\n",
    "\n",
    "\n",
    "hrs = float(input(\"Enter the Time Taken by Worker : \"))\n",
    "if(hrs>=2 and hrs<=3):\n",
    "    print(\"Worker is Highly Efficient..\")\n",
    "elif(hrs>3 and hrs <=4):\n",
    "    print(\"Worker Needs to Improve Speed..\")\n",
    "elif(hrs>4 and hrs <=5):\n",
    "    print(\"Give Training to Worker..\")\n",
    "else:\n",
    "    print(\"Worker is Leave the Company..\")\n"
   ]
  },
  {
   "cell_type": "code",
   "execution_count": null,
   "id": "12e93f8a",
   "metadata": {},
   "outputs": [],
   "source": []
  }
 ],
 "metadata": {
  "kernelspec": {
   "display_name": "Python 3 (ipykernel)",
   "language": "python",
   "name": "python3"
  },
  "language_info": {
   "codemirror_mode": {
    "name": "ipython",
    "version": 3
   },
   "file_extension": ".py",
   "mimetype": "text/x-python",
   "name": "python",
   "nbconvert_exporter": "python",
   "pygments_lexer": "ipython3",
   "version": "3.11.4"
  }
 },
 "nbformat": 4,
 "nbformat_minor": 5
}
